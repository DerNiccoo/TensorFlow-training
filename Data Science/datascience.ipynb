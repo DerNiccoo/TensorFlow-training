{
 "cells": [
  {
   "cell_type": "code",
   "execution_count": 1,
   "metadata": {},
   "outputs": [],
   "source": [
    "import numpy as np\n",
    "import matplotlib.pyplot as plt\n",
    "import pandas as pd"
   ]
  },
  {
   "cell_type": "markdown",
   "metadata": {},
   "source": [
    "\n"
   ]
  },
  {
   "cell_type": "code",
   "execution_count": 2,
   "metadata": {},
   "outputs": [],
   "source": [
    "# Read data from csv file\n",
    "df = pd.read_csv('DS1_50.csv')\n",
    "df_test = pd.read_csv('DS1_1000.csv') # (Unealistically big) test data for reliable evaluation "
   ]
  },
  {
   "cell_type": "markdown",
   "metadata": {},
   "source": [
    "Goals:\n",
    "1. Predict column y from the other variables\n",
    "2. Understand thre relationships between the variables, in particular which variables are relevant for predicting y. \n",
    "3. Get some understanding of the reliability of our model and of our conclusions "
   ]
  },
  {
   "cell_type": "markdown",
   "metadata": {},
   "source": [
    "#### Some commands to get a first overview"
   ]
  },
  {
   "cell_type": "code",
   "execution_count": 3,
   "metadata": {},
   "outputs": [
    {
     "data": {
      "text/html": [
       "<div>\n",
       "<style scoped>\n",
       "    .dataframe tbody tr th:only-of-type {\n",
       "        vertical-align: middle;\n",
       "    }\n",
       "\n",
       "    .dataframe tbody tr th {\n",
       "        vertical-align: top;\n",
       "    }\n",
       "\n",
       "    .dataframe thead th {\n",
       "        text-align: right;\n",
       "    }\n",
       "</style>\n",
       "<table border=\"1\" class=\"dataframe\">\n",
       "  <thead>\n",
       "    <tr style=\"text-align: right;\">\n",
       "      <th></th>\n",
       "      <th>x0</th>\n",
       "      <th>x1</th>\n",
       "      <th>x2</th>\n",
       "      <th>x3</th>\n",
       "      <th>article</th>\n",
       "      <th>y</th>\n",
       "    </tr>\n",
       "  </thead>\n",
       "  <tbody>\n",
       "    <tr>\n",
       "      <th>0</th>\n",
       "      <td>129.910247</td>\n",
       "      <td>-174.295634</td>\n",
       "      <td>-0.148489</td>\n",
       "      <td>0.135006</td>\n",
       "      <td>L134QS</td>\n",
       "      <td>9.730587</td>\n",
       "    </tr>\n",
       "    <tr>\n",
       "      <th>1</th>\n",
       "      <td>131.935903</td>\n",
       "      <td>34.767800</td>\n",
       "      <td>0.759396</td>\n",
       "      <td>0.675498</td>\n",
       "      <td>M145RS</td>\n",
       "      <td>10.186560</td>\n",
       "    </tr>\n",
       "    <tr>\n",
       "      <th>2</th>\n",
       "      <td>105.054164</td>\n",
       "      <td>-102.154750</td>\n",
       "      <td>0.016013</td>\n",
       "      <td>-0.637706</td>\n",
       "      <td>Q243RA</td>\n",
       "      <td>9.427848</td>\n",
       "    </tr>\n",
       "    <tr>\n",
       "      <th>3</th>\n",
       "      <td>35.044431</td>\n",
       "      <td>-103.234909</td>\n",
       "      <td>0.726942</td>\n",
       "      <td>-1.651440</td>\n",
       "      <td>L134QS</td>\n",
       "      <td>7.033332</td>\n",
       "    </tr>\n",
       "    <tr>\n",
       "      <th>4</th>\n",
       "      <td>130.000460</td>\n",
       "      <td>-61.448860</td>\n",
       "      <td>0.311692</td>\n",
       "      <td>-1.395062</td>\n",
       "      <td>L134QS</td>\n",
       "      <td>8.096095</td>\n",
       "    </tr>\n",
       "  </tbody>\n",
       "</table>\n",
       "</div>"
      ],
      "text/plain": [
       "           x0          x1        x2        x3 article          y\n",
       "0  129.910247 -174.295634 -0.148489  0.135006  L134QS   9.730587\n",
       "1  131.935903   34.767800  0.759396  0.675498  M145RS  10.186560\n",
       "2  105.054164 -102.154750  0.016013 -0.637706  Q243RA   9.427848\n",
       "3   35.044431 -103.234909  0.726942 -1.651440  L134QS   7.033332\n",
       "4  130.000460  -61.448860  0.311692 -1.395062  L134QS   8.096095"
      ]
     },
     "execution_count": 3,
     "metadata": {},
     "output_type": "execute_result"
    }
   ],
   "source": [
    "df.head() # First few lines"
   ]
  },
  {
   "cell_type": "code",
   "execution_count": 4,
   "metadata": {},
   "outputs": [
    {
     "data": {
      "text/html": [
       "<div>\n",
       "<style scoped>\n",
       "    .dataframe tbody tr th:only-of-type {\n",
       "        vertical-align: middle;\n",
       "    }\n",
       "\n",
       "    .dataframe tbody tr th {\n",
       "        vertical-align: top;\n",
       "    }\n",
       "\n",
       "    .dataframe thead th {\n",
       "        text-align: right;\n",
       "    }\n",
       "</style>\n",
       "<table border=\"1\" class=\"dataframe\">\n",
       "  <thead>\n",
       "    <tr style=\"text-align: right;\">\n",
       "      <th></th>\n",
       "      <th>x0</th>\n",
       "      <th>x1</th>\n",
       "      <th>x2</th>\n",
       "      <th>x3</th>\n",
       "      <th>y</th>\n",
       "    </tr>\n",
       "  </thead>\n",
       "  <tbody>\n",
       "    <tr>\n",
       "      <th>count</th>\n",
       "      <td>50.000000</td>\n",
       "      <td>50.000000</td>\n",
       "      <td>50.000000</td>\n",
       "      <td>50.000000</td>\n",
       "      <td>50.000000</td>\n",
       "    </tr>\n",
       "    <tr>\n",
       "      <th>mean</th>\n",
       "      <td>5.346166</td>\n",
       "      <td>-5.059545</td>\n",
       "      <td>-0.101508</td>\n",
       "      <td>-0.080933</td>\n",
       "      <td>8.174491</td>\n",
       "    </tr>\n",
       "    <tr>\n",
       "      <th>std</th>\n",
       "      <td>101.545227</td>\n",
       "      <td>106.725998</td>\n",
       "      <td>0.989033</td>\n",
       "      <td>1.664660</td>\n",
       "      <td>2.801625</td>\n",
       "    </tr>\n",
       "    <tr>\n",
       "      <th>min</th>\n",
       "      <td>-204.180745</td>\n",
       "      <td>-174.295634</td>\n",
       "      <td>-2.185873</td>\n",
       "      <td>-3.390625</td>\n",
       "      <td>3.452492</td>\n",
       "    </tr>\n",
       "    <tr>\n",
       "      <th>25%</th>\n",
       "      <td>-60.869652</td>\n",
       "      <td>-101.458428</td>\n",
       "      <td>-0.891850</td>\n",
       "      <td>-1.386011</td>\n",
       "      <td>5.867845</td>\n",
       "    </tr>\n",
       "    <tr>\n",
       "      <th>50%</th>\n",
       "      <td>10.215235</td>\n",
       "      <td>-18.157560</td>\n",
       "      <td>-0.036398</td>\n",
       "      <td>-0.167336</td>\n",
       "      <td>7.938910</td>\n",
       "    </tr>\n",
       "    <tr>\n",
       "      <th>75%</th>\n",
       "      <td>70.870635</td>\n",
       "      <td>76.284066</td>\n",
       "      <td>0.604894</td>\n",
       "      <td>1.422209</td>\n",
       "      <td>9.951101</td>\n",
       "    </tr>\n",
       "    <tr>\n",
       "      <th>max</th>\n",
       "      <td>207.489848</td>\n",
       "      <td>331.991841</td>\n",
       "      <td>2.015776</td>\n",
       "      <td>2.989260</td>\n",
       "      <td>15.675836</td>\n",
       "    </tr>\n",
       "  </tbody>\n",
       "</table>\n",
       "</div>"
      ],
      "text/plain": [
       "               x0          x1         x2         x3          y\n",
       "count   50.000000   50.000000  50.000000  50.000000  50.000000\n",
       "mean     5.346166   -5.059545  -0.101508  -0.080933   8.174491\n",
       "std    101.545227  106.725998   0.989033   1.664660   2.801625\n",
       "min   -204.180745 -174.295634  -2.185873  -3.390625   3.452492\n",
       "25%    -60.869652 -101.458428  -0.891850  -1.386011   5.867845\n",
       "50%     10.215235  -18.157560  -0.036398  -0.167336   7.938910\n",
       "75%     70.870635   76.284066   0.604894   1.422209   9.951101\n",
       "max    207.489848  331.991841   2.015776   2.989260  15.675836"
      ]
     },
     "execution_count": 4,
     "metadata": {},
     "output_type": "execute_result"
    }
   ],
   "source": [
    "df.describe()  # Some basic statistics"
   ]
  },
  {
   "cell_type": "code",
   "execution_count": 5,
   "metadata": {},
   "outputs": [
    {
     "name": "stdout",
     "output_type": "stream",
     "text": [
      "<class 'pandas.core.frame.DataFrame'>\n",
      "RangeIndex: 50 entries, 0 to 49\n",
      "Data columns (total 6 columns):\n",
      " #   Column   Non-Null Count  Dtype  \n",
      "---  ------   --------------  -----  \n",
      " 0   x0       50 non-null     float64\n",
      " 1   x1       50 non-null     float64\n",
      " 2   x2       50 non-null     float64\n",
      " 3   x3       50 non-null     float64\n",
      " 4   article  50 non-null     object \n",
      " 5   y        50 non-null     float64\n",
      "dtypes: float64(5), object(1)\n",
      "memory usage: 2.5+ KB\n"
     ]
    }
   ],
   "source": [
    "df.info() # Some basic info about ndata types"
   ]
  },
  {
   "cell_type": "code",
   "execution_count": 6,
   "metadata": {},
   "outputs": [
    {
     "data": {
      "text/plain": [
       "x0         float64\n",
       "x1         float64\n",
       "x2         float64\n",
       "x3         float64\n",
       "article     object\n",
       "y          float64\n",
       "dtype: object"
      ]
     },
     "execution_count": 6,
     "metadata": {},
     "output_type": "execute_result"
    }
   ],
   "source": [
    "df.dtypes # even more basic info about data types"
   ]
  },
  {
   "cell_type": "code",
   "execution_count": 7,
   "metadata": {},
   "outputs": [
    {
     "data": {
      "text/plain": [
       "Index(['x0', 'x1', 'x2', 'x3', 'article', 'y'], dtype='object')"
      ]
     },
     "execution_count": 7,
     "metadata": {},
     "output_type": "execute_result"
    }
   ],
   "source": [
    "df.columns"
   ]
  },
  {
   "cell_type": "markdown",
   "metadata": {},
   "source": [
    "#### Make separate variables for each column for convenience"
   ]
  },
  {
   "cell_type": "code",
   "execution_count": 8,
   "metadata": {},
   "outputs": [],
   "source": [
    "x0 = df['x0']\n",
    "x1 = df['x1']\n",
    "x2 = df['x2']\n",
    "x3 = df['x3']\n",
    "article = df['article']\n",
    "y = df['y']"
   ]
  },
  {
   "cell_type": "code",
   "execution_count": 9,
   "metadata": {},
   "outputs": [
    {
     "data": {
      "image/png": "[encoded data removed]",
      "text/plain": [
       "<Figure size 432x288 with 1 Axes>"
      ]
     },
     "metadata": {
      "needs_background": "light"
     },
     "output_type": "display_data"
    }
   ],
   "source": [
    "plt.hist(y, bins=10);"
   ]
  },
  {
   "cell_type": "markdown",
   "metadata": {},
   "source": []
  },
  {
   "cell_type": "markdown",
   "metadata": {},
   "source": [
    "#### For taking a look at the relationships"
   ]
  },
  {
   "cell_type": "code",
   "execution_count": 10,
   "metadata": {},
   "outputs": [
    {
     "data": {
      "image/png": "[encoded data removed]",
      "text/plain": [
       "<Figure size 432x288 with 1 Axes>"
      ]
     },
     "metadata": {
      "needs_background": "light"
     },
     "output_type": "display_data"
    }
   ],
   "source": [
    "plt.scatter(x3,y,c=(y-min(df['y'])+1)) # scatterplot of x0 against y where the color represents y \n",
    "plt.xlabel('x3')\n",
    "plt.ylabel('y');"
   ]
  },
  {
   "cell_type": "code",
   "execution_count": 11,
   "metadata": {},
   "outputs": [],
   "source": [
    "# Angenommen der Zusammenhang zwischen einem Input X0 und Y ist: y = b(x0 - a)² + c + eps == b*x0² + (-2ab)X0 + (a²b+c) + eps\n",
    "# "
   ]
  },
  {
   "cell_type": "code",
   "execution_count": 12,
   "metadata": {},
   "outputs": [
    {
     "data": {
      "image/png": "[encoded data removed]",
      "text/plain": [
       "<Figure size 432x288 with 1 Axes>"
      ]
     },
     "metadata": {
      "needs_background": "light"
     },
     "output_type": "display_data"
    }
   ],
   "source": [
    "from matplotlib import pyplot\n",
    "from mpl_toolkits.mplot3d import Axes3D\n",
    "import random\n",
    "\n",
    "\n",
    "fig = pyplot.figure()\n",
    "ax = Axes3D(fig)\n",
    "\n",
    "\n",
    "ax.scatter(x1, x2, y)\n",
    "pyplot.show()"
   ]
  },
  {
   "cell_type": "code",
   "execution_count": 13,
   "metadata": {},
   "outputs": [],
   "source": [
    "# Such charts also exist in an interactive mode:\n",
    "# See https://github.com/matplotlib/jupyter-matplotlib\n",
    "# and instructions at \n",
    "# https://ilias.hs-karlsruhe.de/goto.php?target=file_364991_download&client_id=HSKA "
   ]
  },
  {
   "cell_type": "code",
   "execution_count": 14,
   "metadata": {},
   "outputs": [],
   "source": [
    "# Add column mit x0²\n",
    "df['x0_sq'] = df['x0'] * df['x0']\n",
    "df_test['x0_sq'] = df_test['x0'] * df_test['x0'] "
   ]
  },
  {
   "cell_type": "code",
   "execution_count": 15,
   "metadata": {},
   "outputs": [],
   "source": [
    "# Adding one Hot\n",
    "df = pd.get_dummies(df, columns=['article'])\n",
    "df_test = pd.get_dummies(df_test, columns=['article'])"
   ]
  },
  {
   "cell_type": "code",
   "execution_count": 16,
   "metadata": {},
   "outputs": [
    {
     "data": {
      "text/html": [
       "<div>\n",
       "<style scoped>\n",
       "    .dataframe tbody tr th:only-of-type {\n",
       "        vertical-align: middle;\n",
       "    }\n",
       "\n",
       "    .dataframe tbody tr th {\n",
       "        vertical-align: top;\n",
       "    }\n",
       "\n",
       "    .dataframe thead th {\n",
       "        text-align: right;\n",
       "    }\n",
       "</style>\n",
       "<table border=\"1\" class=\"dataframe\">\n",
       "  <thead>\n",
       "    <tr style=\"text-align: right;\">\n",
       "      <th></th>\n",
       "      <th>x0</th>\n",
       "      <th>x1</th>\n",
       "      <th>x2</th>\n",
       "      <th>x3</th>\n",
       "      <th>y</th>\n",
       "      <th>x0_sq</th>\n",
       "      <th>article_L134QS</th>\n",
       "      <th>article_M145RS</th>\n",
       "      <th>article_M375AZ</th>\n",
       "      <th>article_N4517AS</th>\n",
       "      <th>article_N537LQ</th>\n",
       "      <th>article_Q243RA</th>\n",
       "    </tr>\n",
       "  </thead>\n",
       "  <tbody>\n",
       "    <tr>\n",
       "      <th>0</th>\n",
       "      <td>129.910247</td>\n",
       "      <td>-174.295634</td>\n",
       "      <td>-0.148489</td>\n",
       "      <td>0.135006</td>\n",
       "      <td>9.730587</td>\n",
       "      <td>16876.672295</td>\n",
       "      <td>1</td>\n",
       "      <td>0</td>\n",
       "      <td>0</td>\n",
       "      <td>0</td>\n",
       "      <td>0</td>\n",
       "      <td>0</td>\n",
       "    </tr>\n",
       "    <tr>\n",
       "      <th>1</th>\n",
       "      <td>131.935903</td>\n",
       "      <td>34.767800</td>\n",
       "      <td>0.759396</td>\n",
       "      <td>0.675498</td>\n",
       "      <td>10.186560</td>\n",
       "      <td>17407.082392</td>\n",
       "      <td>0</td>\n",
       "      <td>1</td>\n",
       "      <td>0</td>\n",
       "      <td>0</td>\n",
       "      <td>0</td>\n",
       "      <td>0</td>\n",
       "    </tr>\n",
       "    <tr>\n",
       "      <th>2</th>\n",
       "      <td>105.054164</td>\n",
       "      <td>-102.154750</td>\n",
       "      <td>0.016013</td>\n",
       "      <td>-0.637706</td>\n",
       "      <td>9.427848</td>\n",
       "      <td>11036.377387</td>\n",
       "      <td>0</td>\n",
       "      <td>0</td>\n",
       "      <td>0</td>\n",
       "      <td>0</td>\n",
       "      <td>0</td>\n",
       "      <td>1</td>\n",
       "    </tr>\n",
       "    <tr>\n",
       "      <th>3</th>\n",
       "      <td>35.044431</td>\n",
       "      <td>-103.234909</td>\n",
       "      <td>0.726942</td>\n",
       "      <td>-1.651440</td>\n",
       "      <td>7.033332</td>\n",
       "      <td>1228.112162</td>\n",
       "      <td>1</td>\n",
       "      <td>0</td>\n",
       "      <td>0</td>\n",
       "      <td>0</td>\n",
       "      <td>0</td>\n",
       "      <td>0</td>\n",
       "    </tr>\n",
       "    <tr>\n",
       "      <th>4</th>\n",
       "      <td>130.000460</td>\n",
       "      <td>-61.448860</td>\n",
       "      <td>0.311692</td>\n",
       "      <td>-1.395062</td>\n",
       "      <td>8.096095</td>\n",
       "      <td>16900.119529</td>\n",
       "      <td>1</td>\n",
       "      <td>0</td>\n",
       "      <td>0</td>\n",
       "      <td>0</td>\n",
       "      <td>0</td>\n",
       "      <td>0</td>\n",
       "    </tr>\n",
       "  </tbody>\n",
       "</table>\n",
       "</div>"
      ],
      "text/plain": [
       "           x0          x1        x2        x3          y         x0_sq  \\\n",
       "0  129.910247 -174.295634 -0.148489  0.135006   9.730587  16876.672295   \n",
       "1  131.935903   34.767800  0.759396  0.675498  10.186560  17407.082392   \n",
       "2  105.054164 -102.154750  0.016013 -0.637706   9.427848  11036.377387   \n",
       "3   35.044431 -103.234909  0.726942 -1.651440   7.033332   1228.112162   \n",
       "4  130.000460  -61.448860  0.311692 -1.395062   8.096095  16900.119529   \n",
       "\n",
       "   article_L134QS  article_M145RS  article_M375AZ  article_N4517AS  \\\n",
       "0               1               0               0                0   \n",
       "1               0               1               0                0   \n",
       "2               0               0               0                0   \n",
       "3               1               0               0                0   \n",
       "4               1               0               0                0   \n",
       "\n",
       "   article_N537LQ  article_Q243RA  \n",
       "0               0               0  \n",
       "1               0               0  \n",
       "2               0               1  \n",
       "3               0               0  \n",
       "4               0               0  "
      ]
     },
     "execution_count": 16,
     "metadata": {},
     "output_type": "execute_result"
    }
   ],
   "source": [
    "df.head()"
   ]
  },
  {
   "cell_type": "code",
   "execution_count": 17,
   "metadata": {},
   "outputs": [
    {
     "data": {
      "text/html": [
       "<div>\n",
       "<style scoped>\n",
       "    .dataframe tbody tr th:only-of-type {\n",
       "        vertical-align: middle;\n",
       "    }\n",
       "\n",
       "    .dataframe tbody tr th {\n",
       "        vertical-align: top;\n",
       "    }\n",
       "\n",
       "    .dataframe thead th {\n",
       "        text-align: right;\n",
       "    }\n",
       "</style>\n",
       "<table border=\"1\" class=\"dataframe\">\n",
       "  <thead>\n",
       "    <tr style=\"text-align: right;\">\n",
       "      <th></th>\n",
       "      <th>x0</th>\n",
       "      <th>x1</th>\n",
       "      <th>x2</th>\n",
       "      <th>x3</th>\n",
       "      <th>y</th>\n",
       "      <th>x0_sq</th>\n",
       "      <th>article_L134QS</th>\n",
       "      <th>article_M145RS</th>\n",
       "      <th>article_M375AZ</th>\n",
       "      <th>article_N4517AS</th>\n",
       "      <th>article_N537LQ</th>\n",
       "      <th>article_Q243RA</th>\n",
       "    </tr>\n",
       "  </thead>\n",
       "  <tbody>\n",
       "    <tr>\n",
       "      <th>x0</th>\n",
       "      <td>1.000000</td>\n",
       "      <td>0.162130</td>\n",
       "      <td>-0.069976</td>\n",
       "      <td>0.014506</td>\n",
       "      <td>0.410936</td>\n",
       "      <td>-0.096836</td>\n",
       "      <td>-0.081010</td>\n",
       "      <td>-0.136468</td>\n",
       "      <td>0.041172</td>\n",
       "      <td>0.072360</td>\n",
       "      <td>0.014952</td>\n",
       "      <td>0.133852</td>\n",
       "    </tr>\n",
       "    <tr>\n",
       "      <th>x1</th>\n",
       "      <td>0.162130</td>\n",
       "      <td>1.000000</td>\n",
       "      <td>-0.124050</td>\n",
       "      <td>0.520365</td>\n",
       "      <td>0.552432</td>\n",
       "      <td>0.225776</td>\n",
       "      <td>-0.187350</td>\n",
       "      <td>-0.019416</td>\n",
       "      <td>-0.166188</td>\n",
       "      <td>-0.094601</td>\n",
       "      <td>0.381008</td>\n",
       "      <td>0.063290</td>\n",
       "    </tr>\n",
       "    <tr>\n",
       "      <th>x2</th>\n",
       "      <td>-0.069976</td>\n",
       "      <td>-0.124050</td>\n",
       "      <td>1.000000</td>\n",
       "      <td>0.609138</td>\n",
       "      <td>0.458730</td>\n",
       "      <td>0.193617</td>\n",
       "      <td>0.099480</td>\n",
       "      <td>-0.236027</td>\n",
       "      <td>0.157579</td>\n",
       "      <td>0.251667</td>\n",
       "      <td>-0.069918</td>\n",
       "      <td>-0.197515</td>\n",
       "    </tr>\n",
       "    <tr>\n",
       "      <th>x3</th>\n",
       "      <td>0.014506</td>\n",
       "      <td>0.520365</td>\n",
       "      <td>0.609138</td>\n",
       "      <td>1.000000</td>\n",
       "      <td>0.783288</td>\n",
       "      <td>0.267837</td>\n",
       "      <td>-0.051956</td>\n",
       "      <td>-0.174251</td>\n",
       "      <td>-0.078895</td>\n",
       "      <td>0.102246</td>\n",
       "      <td>0.327152</td>\n",
       "      <td>-0.178836</td>\n",
       "    </tr>\n",
       "    <tr>\n",
       "      <th>y</th>\n",
       "      <td>0.410936</td>\n",
       "      <td>0.552432</td>\n",
       "      <td>0.458730</td>\n",
       "      <td>0.783288</td>\n",
       "      <td>1.000000</td>\n",
       "      <td>0.427248</td>\n",
       "      <td>-0.100691</td>\n",
       "      <td>-0.265791</td>\n",
       "      <td>-0.148730</td>\n",
       "      <td>0.148652</td>\n",
       "      <td>0.323160</td>\n",
       "      <td>-0.006195</td>\n",
       "    </tr>\n",
       "    <tr>\n",
       "      <th>x0_sq</th>\n",
       "      <td>-0.096836</td>\n",
       "      <td>0.225776</td>\n",
       "      <td>0.193617</td>\n",
       "      <td>0.267837</td>\n",
       "      <td>0.427248</td>\n",
       "      <td>1.000000</td>\n",
       "      <td>0.050712</td>\n",
       "      <td>-0.028109</td>\n",
       "      <td>-0.031639</td>\n",
       "      <td>0.161917</td>\n",
       "      <td>-0.056512</td>\n",
       "      <td>-0.144592</td>\n",
       "    </tr>\n",
       "    <tr>\n",
       "      <th>article_L134QS</th>\n",
       "      <td>-0.081010</td>\n",
       "      <td>-0.187350</td>\n",
       "      <td>0.099480</td>\n",
       "      <td>-0.051956</td>\n",
       "      <td>-0.100691</td>\n",
       "      <td>0.050712</td>\n",
       "      <td>1.000000</td>\n",
       "      <td>-0.277716</td>\n",
       "      <td>-0.149755</td>\n",
       "      <td>-0.296374</td>\n",
       "      <td>-0.277716</td>\n",
       "      <td>-0.218887</td>\n",
       "    </tr>\n",
       "    <tr>\n",
       "      <th>article_M145RS</th>\n",
       "      <td>-0.136468</td>\n",
       "      <td>-0.019416</td>\n",
       "      <td>-0.236027</td>\n",
       "      <td>-0.174251</td>\n",
       "      <td>-0.265791</td>\n",
       "      <td>-0.028109</td>\n",
       "      <td>-0.277716</td>\n",
       "      <td>1.000000</td>\n",
       "      <td>-0.118370</td>\n",
       "      <td>-0.234261</td>\n",
       "      <td>-0.219512</td>\n",
       "      <td>-0.173013</td>\n",
       "    </tr>\n",
       "    <tr>\n",
       "      <th>article_M375AZ</th>\n",
       "      <td>0.041172</td>\n",
       "      <td>-0.166188</td>\n",
       "      <td>0.157579</td>\n",
       "      <td>-0.078895</td>\n",
       "      <td>-0.148730</td>\n",
       "      <td>-0.031639</td>\n",
       "      <td>-0.149755</td>\n",
       "      <td>-0.118370</td>\n",
       "      <td>1.000000</td>\n",
       "      <td>-0.126323</td>\n",
       "      <td>-0.118370</td>\n",
       "      <td>-0.093296</td>\n",
       "    </tr>\n",
       "    <tr>\n",
       "      <th>article_N4517AS</th>\n",
       "      <td>0.072360</td>\n",
       "      <td>-0.094601</td>\n",
       "      <td>0.251667</td>\n",
       "      <td>0.102246</td>\n",
       "      <td>0.148652</td>\n",
       "      <td>0.161917</td>\n",
       "      <td>-0.296374</td>\n",
       "      <td>-0.234261</td>\n",
       "      <td>-0.126323</td>\n",
       "      <td>1.000000</td>\n",
       "      <td>-0.234261</td>\n",
       "      <td>-0.184637</td>\n",
       "    </tr>\n",
       "    <tr>\n",
       "      <th>article_N537LQ</th>\n",
       "      <td>0.014952</td>\n",
       "      <td>0.381008</td>\n",
       "      <td>-0.069918</td>\n",
       "      <td>0.327152</td>\n",
       "      <td>0.323160</td>\n",
       "      <td>-0.056512</td>\n",
       "      <td>-0.277716</td>\n",
       "      <td>-0.219512</td>\n",
       "      <td>-0.118370</td>\n",
       "      <td>-0.234261</td>\n",
       "      <td>1.000000</td>\n",
       "      <td>-0.173013</td>\n",
       "    </tr>\n",
       "    <tr>\n",
       "      <th>article_Q243RA</th>\n",
       "      <td>0.133852</td>\n",
       "      <td>0.063290</td>\n",
       "      <td>-0.197515</td>\n",
       "      <td>-0.178836</td>\n",
       "      <td>-0.006195</td>\n",
       "      <td>-0.144592</td>\n",
       "      <td>-0.218887</td>\n",
       "      <td>-0.173013</td>\n",
       "      <td>-0.093296</td>\n",
       "      <td>-0.184637</td>\n",
       "      <td>-0.173013</td>\n",
       "      <td>1.000000</td>\n",
       "    </tr>\n",
       "  </tbody>\n",
       "</table>\n",
       "</div>"
      ],
      "text/plain": [
       "                       x0        x1        x2        x3         y     x0_sq  \\\n",
       "x0               1.000000  0.162130 -0.069976  0.014506  0.410936 -0.096836   \n",
       "x1               0.162130  1.000000 -0.124050  0.520365  0.552432  0.225776   \n",
       "x2              -0.069976 -0.124050  1.000000  0.609138  0.458730  0.193617   \n",
       "x3               0.014506  0.520365  0.609138  1.000000  0.783288  0.267837   \n",
       "y                0.410936  0.552432  0.458730  0.783288  1.000000  0.427248   \n",
       "x0_sq           -0.096836  0.225776  0.193617  0.267837  0.427248  1.000000   \n",
       "article_L134QS  -0.081010 -0.187350  0.099480 -0.051956 -0.100691  0.050712   \n",
       "article_M145RS  -0.136468 -0.019416 -0.236027 -0.174251 -0.265791 -0.028109   \n",
       "article_M375AZ   0.041172 -0.166188  0.157579 -0.078895 -0.148730 -0.031639   \n",
       "article_N4517AS  0.072360 -0.094601  0.251667  0.102246  0.148652  0.161917   \n",
       "article_N537LQ   0.014952  0.381008 -0.069918  0.327152  0.323160 -0.056512   \n",
       "article_Q243RA   0.133852  0.063290 -0.197515 -0.178836 -0.006195 -0.144592   \n",
       "\n",
       "                 article_L134QS  article_M145RS  article_M375AZ  \\\n",
       "x0                    -0.081010       -0.136468        0.041172   \n",
       "x1                    -0.187350       -0.019416       -0.166188   \n",
       "x2                     0.099480       -0.236027        0.157579   \n",
       "x3                    -0.051956       -0.174251       -0.078895   \n",
       "y                     -0.100691       -0.265791       -0.148730   \n",
       "x0_sq                  0.050712       -0.028109       -0.031639   \n",
       "article_L134QS         1.000000       -0.277716       -0.149755   \n",
       "article_M145RS        -0.277716        1.000000       -0.118370   \n",
       "article_M375AZ        -0.149755       -0.118370        1.000000   \n",
       "article_N4517AS       -0.296374       -0.234261       -0.126323   \n",
       "article_N537LQ        -0.277716       -0.219512       -0.118370   \n",
       "article_Q243RA        -0.218887       -0.173013       -0.093296   \n",
       "\n",
       "                 article_N4517AS  article_N537LQ  article_Q243RA  \n",
       "x0                      0.072360        0.014952        0.133852  \n",
       "x1                     -0.094601        0.381008        0.063290  \n",
       "x2                      0.251667       -0.069918       -0.197515  \n",
       "x3                      0.102246        0.327152       -0.178836  \n",
       "y                       0.148652        0.323160       -0.006195  \n",
       "x0_sq                   0.161917       -0.056512       -0.144592  \n",
       "article_L134QS         -0.296374       -0.277716       -0.218887  \n",
       "article_M145RS         -0.234261       -0.219512       -0.173013  \n",
       "article_M375AZ         -0.126323       -0.118370       -0.093296  \n",
       "article_N4517AS         1.000000       -0.234261       -0.184637  \n",
       "article_N537LQ         -0.234261        1.000000       -0.173013  \n",
       "article_Q243RA         -0.184637       -0.173013        1.000000  "
      ]
     },
     "execution_count": 17,
     "metadata": {},
     "output_type": "execute_result"
    }
   ],
   "source": [
    "df.corr()"
   ]
  },
  {
   "cell_type": "code",
   "execution_count": 18,
   "metadata": {},
   "outputs": [
    {
     "data": {
      "text/plain": [
       "Index(['x0', 'x1', 'x2', 'x3', 'y', 'x0_sq', 'article_L134QS',\n",
       "       'article_M145RS', 'article_M375AZ', 'article_N4517AS', 'article_N537LQ',\n",
       "       'article_Q243RA'],\n",
       "      dtype='object')"
      ]
     },
     "execution_count": 18,
     "metadata": {},
     "output_type": "execute_result"
    }
   ],
   "source": [
    "df.columns"
   ]
  },
  {
   "cell_type": "markdown",
   "metadata": {},
   "source": [
    "#### All pairwise relationships in one: Correlation Matrix"
   ]
  },
  {
   "cell_type": "code",
   "execution_count": 19,
   "metadata": {},
   "outputs": [
    {
     "data": {
      "text/plain": [
       "x0                 0.410936\n",
       "x1                 0.552432\n",
       "x2                 0.458730\n",
       "x3                 0.783288\n",
       "y                  1.000000\n",
       "x0_sq              0.427248\n",
       "article_L134QS    -0.100691\n",
       "article_M145RS    -0.265791\n",
       "article_M375AZ    -0.148730\n",
       "article_N4517AS    0.148652\n",
       "article_N537LQ     0.323160\n",
       "article_Q243RA    -0.006195\n",
       "Name: y, dtype: float64"
      ]
     },
     "execution_count": 19,
     "metadata": {},
     "output_type": "execute_result"
    },
    {
     "data": {
      "image/png": "[encoded data removed]",
      "text/plain": [
       "<Figure size 288x288 with 2 Axes>"
      ]
     },
     "metadata": {
      "needs_background": "light"
     },
     "output_type": "display_data"
    }
   ],
   "source": [
    "import matplotlib.pyplot as plt\n",
    "\n",
    "plt.matshow(df.corr())\n",
    "plt.colorbar()\n",
    "df.corr()['y']"
   ]
  },
  {
   "cell_type": "code",
   "execution_count": 20,
   "metadata": {},
   "outputs": [
    {
     "data": {
      "image/png": "[encoded data removed]",
      "text/plain": [
       "<Figure size 432x288 with 144 Axes>"
      ]
     },
     "metadata": {
      "needs_background": "light"
     },
     "output_type": "display_data"
    }
   ],
   "source": [
    "pd.plotting.scatter_matrix(df, c=df[\"y\"]); # zeigt die Streuung aller Werte zu allen. So könnte man Steigende Zusammenhänge ggf erahnen"
   ]
  },
  {
   "cell_type": "code",
   "execution_count": null,
   "metadata": {},
   "outputs": [],
   "source": []
  },
  {
   "cell_type": "code",
   "execution_count": null,
   "metadata": {},
   "outputs": [],
   "source": []
  },
  {
   "cell_type": "code",
   "execution_count": 21,
   "metadata": {},
   "outputs": [],
   "source": [
    "from sklearn import datasets, linear_model\n",
    "from sklearn.metrics import mean_squared_error, r2_score\n",
    "X = df[df.columns.difference(['y','article'])] # Remove columns 'y' and 'article'\n",
    "Y = df['y']\n",
    "X_test = df_test[df.columns.difference(['y','article'])]\n",
    "Y_test = df_test['y']"
   ]
  },
  {
   "cell_type": "code",
   "execution_count": null,
   "metadata": {},
   "outputs": [],
   "source": []
  },
  {
   "cell_type": "code",
   "execution_count": 22,
   "metadata": {},
   "outputs": [],
   "source": [
    "from sklearn.preprocessing import StandardScaler\n",
    "scaler = StandardScaler(with_mean=False) # mean nicht nutzen\n",
    "\n",
    "Xs = pd.DataFrame(scaler.fit_transform(X[X.columns]))\n",
    "Xs.columns = X.columns\n",
    "Xs_test = pd.DataFrame(scaler.transform(X_test[X.columns])) # test daten müssen gleich skaliert werden wie die trainigsdaten. Nur so ist der Vergleich sinnvoll und Testdaten \"richtig\"\n",
    "Xs_test.columns = X.columns"
   ]
  },
  {
   "cell_type": "code",
   "execution_count": null,
   "metadata": {},
   "outputs": [],
   "source": []
  },
  {
   "cell_type": "code",
   "execution_count": null,
   "metadata": {},
   "outputs": [],
   "source": []
  },
  {
   "cell_type": "code",
   "execution_count": 23,
   "metadata": {},
   "outputs": [
    {
     "name": "stdout",
     "output_type": "stream",
     "text": [
      "['article_L134QS' 'article_M145RS' 'article_M375AZ' 'article_N4517AS'\n",
      " 'article_N537LQ' 'article_Q243RA' 'x0' 'x0_sq' 'x1' 'x2' 'x3']\n",
      "Coefficients: \n",
      " [-1.62902787e-01 -3.24205383e-01 -1.32770476e+00  1.44145250e-02\n",
      "  9.68909284e-01  8.31489122e-01  1.12803782e-02  7.10154181e-05\n",
      "  2.94089674e-03  5.38491398e-01  8.07292515e-01]\n",
      "Intercept: \n",
      " 7.432715122398409\n",
      "On Training set:\n",
      "Mean squared error: 0.82\n",
      "Variance of target variable: 7.69\n",
      "Variance explained: 0.89\n",
      "On Test set:\n",
      "Mean squared error: 1.64\n",
      "Variance of target variable: 6.98\n",
      "Variance explained: 0.76\n"
     ]
    }
   ],
   "source": [
    "# Baut modell von Typ LinearRegression. \n",
    "regr = linear_model.LinearRegression()\n",
    "regr.fit(X, Y) # Trainieren des Modells (optimale Parameter für die Trainingsdaten)\n",
    "pred = regr.predict(X) # Prognose für die gleichen Daten\n",
    "pred_test = regr.predict(X_test) # Für die wirklichen Testdaten\n",
    "print(X.columns.values)\n",
    "print('Coefficients: \\n', regr.coef_) #x3 hat größten koeffizient. Wie erwartet\n",
    "print('Intercept: \\n', regr.intercept_) # Vor jeden Input steigungskoeffizient + KONSTANTE und das ist das hier\n",
    "print('On Training set:')\n",
    "print(\"Mean squared error: %.2f\" % mean_squared_error(Y, pred)) # Ausgabe der standardwerte\n",
    "print(\"Variance of target variable: %.2f\" % np.var(Y)) # Interpretierbar als MSE des normalen Modells das immer den y-Mittelwert liefert? Avg abweichungsquadrat # Wie viel bringt das Modell, wie viel geringer sind die Y werte um den Prognosewert\n",
    "print('Variance explained: %.2f' % r2_score(Y, pred)) # Welcher Anteil der Varianz ist mit dem einen Input erklärbar, wenn mehrere Inputs ist es komplizierter\n",
    "print('On Test set:')\n",
    "print(\"Mean squared error: %.2f\" % mean_squared_error(Y_test, pred_test))\n",
    "print(\"Variance of target variable: %.2f\" % np.var(Y_test))\n",
    "print('Variance explained: %.2f' % r2_score(Y_test, pred_test))"
   ]
  },
  {
   "cell_type": "code",
   "execution_count": 24,
   "metadata": {},
   "outputs": [
    {
     "data": {
      "text/plain": [
       "x0                 0.410936\n",
       "x1                 0.552432\n",
       "x2                 0.458730\n",
       "x3                 0.783288\n",
       "y                  1.000000\n",
       "x0_sq              0.427248\n",
       "article_L134QS    -0.100691\n",
       "article_M145RS    -0.265791\n",
       "article_M375AZ    -0.148730\n",
       "article_N4517AS    0.148652\n",
       "article_N537LQ     0.323160\n",
       "article_Q243RA    -0.006195\n",
       "Name: y, dtype: float64"
      ]
     },
     "execution_count": 24,
     "metadata": {},
     "output_type": "execute_result"
    }
   ],
   "source": [
    "# Wie zu erkennen, ist die Reihenfolge nicht identisch. X3 stimmt, aber der rest nicht! \n",
    "# Auch sind x0-x2 nahe aneinander. Wobei x2 deutlich größere Koeffizient hat. Warum?\n",
    "df.corr()['y']\n",
    "\n",
    "#1. x1 beeinflusst X3 was Y beeinflusst. (X1 -> X3 -> Y) Baises Netz. Indirekter Zusammenhang. In diesem Fall bringt X1 keine (kaum) zusätzliche Informationen, da x3 bereits bekannt und verwendet\n",
    "#2. Skalierung von X1 vs X3 z.B. Y = k1x1 + k3x3 +c und wir skalieren X1 zu X'1 := 100 * X1. Dann ergibt sich das selbe Modell, nur dass k1 = 1/100 und x'1 = 100X1 sein wird. Resultat:\n",
    "# Der Koeffizient ist deutlich kleiner, um weiterhin das selbe Ergebnis zu bekommen\n",
    "\n",
    "# => Hier: da die Abweichung (min, std) von x0, x1 DEUTLICH größer sind als bei x2/x3 ist hier die Skalierung der Grund.\n",
    "# Also dürfen die Koeffizienten nicht so ohne weiteres verglichen werden"
   ]
  },
  {
   "cell_type": "code",
   "execution_count": 25,
   "metadata": {},
   "outputs": [],
   "source": [
    "# Also alles passend skalieren (normalizieren) damit die Skalierung raus ist und dann alles erneut durchlaufen lassen"
   ]
  },
  {
   "cell_type": "code",
   "execution_count": 26,
   "metadata": {},
   "outputs": [
    {
     "name": "stdout",
     "output_type": "stream",
     "text": [
      "['article_L134QS' 'article_M145RS' 'article_M375AZ' 'article_N4517AS'\n",
      " 'article_N537LQ' 'article_Q243RA' 'x0' 'x0_sq' 'x1' 'x2' 'x3']\n",
      "Coefficients: \n",
      " [-0.11428054 -0.16206556 -0.3384993  -0.03328796  0.33473287  0.23847455\n",
      "  1.13395602  0.81553167  0.31071559  0.5272329   1.33036103]\n",
      "Intercept: \n",
      " 7.530349542150767\n",
      "On Training set:\n",
      "Mean squared error: 0.82\n",
      "Variance of target variable: 7.69\n",
      "Variance explained: 0.89\n",
      "On Test set:\n",
      "Mean squared error: 1.64\n",
      "Variance of target variable: 6.98\n",
      "Variance explained: 0.76\n"
     ]
    }
   ],
   "source": [
    "regr = linear_model.LinearRegression()\n",
    "regr.fit(Xs, Y) \n",
    "pred = regr.predict(Xs) \n",
    "pred_test = regr.predict(Xs_test) \n",
    "print(X.columns.values)\n",
    "print('Coefficients: \\n', regr.coef_) \n",
    "print('Intercept: \\n', regr.intercept_) \n",
    "print('On Training set:')\n",
    "print(\"Mean squared error: %.2f\" % mean_squared_error(Y, pred)) # Mse MUSS auch nach der Skalierung gleich bleiben bei LinearenModellen. \n",
    "print(\"Variance of target variable: %.2f\" % np.var(Y)) \n",
    "print('Variance explained: %.2f' % r2_score(Y, pred)) \n",
    "print('On Test set:')\n",
    "print(\"Mean squared error: %.2f\" % mean_squared_error(Y_test, pred_test))\n",
    "print(\"Variance of target variable: %.2f\" % np.var(Y_test))\n",
    "print('Variance explained: %.2f' % r2_score(Y_test, pred_test))\n",
    "\n",
    "# Jetzt passen die Werte zumindest mehr zusammen, aber die Reihenfolge passt immer noch nicht. Also MUSS es Abhängigkeiten zwischen den Inputs geben. Diese könnten ggf. auch zufällig sein \n",
    "# und damit \"ungewollt\". Wie könnte geprüft werden, ob es wirklich Abhängigkeiten gibt? -> Korrelationen prüfen!"
   ]
  },
  {
   "cell_type": "code",
   "execution_count": 18,
   "metadata": {},
   "outputs": [
    {
     "name": "stdout",
     "output_type": "stream",
     "text": [
      "                            OLS Regression Results                            \n",
      "==============================================================================\n",
      "Dep. Variable:                      y   R-squared:                       0.794\n",
      "Model:                            OLS   Adj. R-squared:                  0.776\n",
      "Method:                 Least Squares   F-statistic:                     43.41\n",
      "Date:                Wed, 25 Nov 2020   Prob (F-statistic):           6.74e-15\n",
      "Time:                        10:02:23   Log-Likelihood:                -82.432\n",
      "No. Observations:                  50   AIC:                             174.9\n",
      "Df Residuals:                      45   BIC:                             184.4\n",
      "Df Model:                           4                                         \n",
      "Covariance Type:            nonrobust                                         \n",
      "==============================================================================\n",
      "                 coef    std err          t      P>|t|      [0.025      0.975]\n",
      "------------------------------------------------------------------------------\n",
      "const          8.2744      0.190     43.507      0.000       7.891       8.657\n",
      "x0             0.0105      0.002      5.506      0.000       0.007       0.014\n",
      "x1             0.0059      0.003      2.126      0.039       0.000       0.011\n",
      "x2             0.4976      0.318      1.563      0.125      -0.144       1.139\n",
      "x3             0.9323      0.220      4.232      0.000       0.489       1.376\n",
      "==============================================================================\n",
      "Omnibus:                        0.014   Durbin-Watson:                   2.664\n",
      "Prob(Omnibus):                  0.993   Jarque-Bera (JB):                0.175\n",
      "Skew:                          -0.008   Prob(JB):                        0.916\n",
      "Kurtosis:                       2.710   Cond. No.                         221.\n",
      "==============================================================================\n",
      "\n",
      "Warnings:\n",
      "[1] Standard Errors assume that the covariance matrix of the errors is correctly specified.\n"
     ]
    }
   ],
   "source": [
    "import statsmodels.api as sm\n",
    "X2 = sm.add_constant(X)\n",
    "est = sm.OLS(Y, X2)\n",
    "est2 = est.fit()\n",
    "print(est2.summary())"
   ]
  },
  {
   "cell_type": "code",
   "execution_count": null,
   "metadata": {},
   "outputs": [],
   "source": []
  },
  {
   "cell_type": "code",
   "execution_count": null,
   "metadata": {},
   "outputs": [],
   "source": []
  },
  {
   "cell_type": "code",
   "execution_count": null,
   "metadata": {},
   "outputs": [],
   "source": []
  },
  {
   "cell_type": "code",
   "execution_count": null,
   "metadata": {},
   "outputs": [],
   "source": []
  },
  {
   "cell_type": "code",
   "execution_count": 19,
   "metadata": {},
   "outputs": [],
   "source": [
    "# You can gnore the subsequent PCA for the moment, we will look at this later:"
   ]
  },
  {
   "cell_type": "code",
   "execution_count": 20,
   "metadata": {},
   "outputs": [
    {
     "data": {
      "text/plain": [
       "PCA(n_components=2)"
      ]
     },
     "execution_count": 20,
     "metadata": {},
     "output_type": "execute_result"
    }
   ],
   "source": [
    "# PCA:\n",
    "from sklearn.decomposition import PCA\n",
    "pca = PCA(n_components=2)\n",
    "pca.fit(X)"
   ]
  },
  {
   "cell_type": "code",
   "execution_count": 21,
   "metadata": {},
   "outputs": [
    {
     "name": "stdout",
     "output_type": "stream",
     "text": [
      "[[ 5.94259066e-01  8.04250654e-01 -1.15863505e-03  5.97543743e-03]\n",
      " [-8.04272671e-01  5.94231322e-01 -2.35540465e-04  5.87806102e-03]]\n",
      "[0.58461578 0.41524751]\n"
     ]
    }
   ],
   "source": [
    "print(pca.components_) # The principal component vectors\n",
    "print(pca.explained_variance_ratio_)"
   ]
  },
  {
   "cell_type": "code",
   "execution_count": 22,
   "metadata": {},
   "outputs": [
    {
     "data": {
      "text/html": [
       "<div>\n",
       "<style scoped>\n",
       "    .dataframe tbody tr th:only-of-type {\n",
       "        vertical-align: middle;\n",
       "    }\n",
       "\n",
       "    .dataframe tbody tr th {\n",
       "        vertical-align: top;\n",
       "    }\n",
       "\n",
       "    .dataframe thead th {\n",
       "        text-align: right;\n",
       "    }\n",
       "</style>\n",
       "<table border=\"1\" class=\"dataframe\">\n",
       "  <thead>\n",
       "    <tr style=\"text-align: right;\">\n",
       "      <th></th>\n",
       "      <th>0</th>\n",
       "      <th>1</th>\n",
       "    </tr>\n",
       "  </thead>\n",
       "  <tbody>\n",
       "    <tr>\n",
       "      <th>0</th>\n",
       "      <td>-62.083556</td>\n",
       "      <td>-200.747591</td>\n",
       "    </tr>\n",
       "    <tr>\n",
       "      <th>1</th>\n",
       "      <td>107.261789</td>\n",
       "      <td>-78.141766</td>\n",
       "    </tr>\n",
       "    <tr>\n",
       "      <th>2</th>\n",
       "      <td>-18.839964</td>\n",
       "      <td>-137.892730</td>\n",
       "    </tr>\n",
       "    <tr>\n",
       "      <th>3</th>\n",
       "      <td>-61.319482</td>\n",
       "      <td>-82.233807</td>\n",
       "    </tr>\n",
       "    <tr>\n",
       "      <th>4</th>\n",
       "      <td>28.717469</td>\n",
       "      <td>-133.772161</td>\n",
       "    </tr>\n",
       "  </tbody>\n",
       "</table>\n",
       "</div>"
      ],
      "text/plain": [
       "            0           1\n",
       "0  -62.083556 -200.747591\n",
       "1  107.261789  -78.141766\n",
       "2  -18.839964 -137.892730\n",
       "3  -61.319482  -82.233807\n",
       "4   28.717469 -133.772161"
      ]
     },
     "execution_count": 22,
     "metadata": {},
     "output_type": "execute_result"
    }
   ],
   "source": [
    "pd.DataFrame(pca.transform(X)).head()"
   ]
  },
  {
   "cell_type": "code",
   "execution_count": null,
   "metadata": {},
   "outputs": [],
   "source": []
  },
  {
   "cell_type": "code",
   "execution_count": null,
   "metadata": {},
   "outputs": [],
   "source": []
  },
  {
   "cell_type": "code",
   "execution_count": null,
   "metadata": {},
   "outputs": [],
   "source": []
  },
  {
   "cell_type": "code",
   "execution_count": null,
   "metadata": {},
   "outputs": [],
   "source": []
  },
  {
   "cell_type": "code",
   "execution_count": null,
   "metadata": {},
   "outputs": [],
   "source": []
  }
 ],
 "metadata": {
  "kernelspec": {
   "display_name": "Python 3",
   "language": "python",
   "name": "python3"
  },
  "language_info": {
   "codemirror_mode": {
    "name": "ipython",
    "version": 3
   },
   "file_extension": ".py",
   "mimetype": "text/x-python",
   "name": "python",
   "nbconvert_exporter": "python",
   "pygments_lexer": "ipython3",
   "version": "3.8.3"
  }
 },
 "nbformat": 4,
 "nbformat_minor": 4
}
