{
 "cells": [
  {
   "cell_type": "code",
   "execution_count": 1,
   "metadata": {},
   "outputs": [],
   "source": [
    "from __future__ import absolute_import, division, print_function\n",
    "import tensorflow as tf\n",
    "import numpy as np"
   ]
  },
  {
   "cell_type": "code",
   "execution_count": 2,
   "metadata": {},
   "outputs": [],
   "source": [
    "rng = np.random"
   ]
  },
  {
   "cell_type": "code",
   "execution_count": 68,
   "metadata": {},
   "outputs": [],
   "source": [
    "# parameters:\n",
    "learning_rate = 0.01 # Wenn die lernrate zu hoch geht, spuckt der optimierer immer NaN aus. Abgesehen davon, dass eine zu hohe lern rate kein sinn hat\n",
    "training_steps = 1000\n",
    "display_step = 50"
   ]
  },
  {
   "cell_type": "code",
   "execution_count": 69,
   "metadata": {},
   "outputs": [],
   "source": [
    "# Training Data.\n",
    "X = np.array([3.3,4.4,5.5,6.71,6.93,4.168,9.779,6.182,7.59,2.167,7.042,10.791,5.313,7.997,5.654,9.27,3.1])\n",
    "Y = np.array([1.7,2.76,2.09,3.19,1.694,1.573,3.366,2.596,2.53,1.221,2.827,3.465,1.65,2.904,2.42,2.94,1.3])"
   ]
  },
  {
   "cell_type": "code",
   "execution_count": 70,
   "metadata": {},
   "outputs": [],
   "source": [
    "# Random weights and bias\n",
    "W = tf.Variable(rng.randn(), name=\"weight\")\n",
    "b = tf.Variable(rng.randn(), name=\"bias\")\n",
    "\n",
    "# Linear regression (Wx + b)\n",
    "def linear_regression(x):\n",
    "    return W * x + b\n",
    "\n",
    "# MSE\n",
    "def mean_square(y_pred, y_true):\n",
    "    return tf.reduce_mean(tf.square(y_pred - y_true))\n",
    "\n",
    "# Stochastic Gradient Descent Optimizer // stochastisches gradientenabstiegsverfahren\n",
    "optimizer = tf.optimizers.SGD(learning_rate)"
   ]
  },
  {
   "cell_type": "code",
   "execution_count": 71,
   "metadata": {},
   "outputs": [],
   "source": [
    "# Optimierungs Prozess\n",
    "def run_optimization():\n",
    "    # Berechnung in einem GradientTape für automatische differenzierung\n",
    "    with tf.GradientTape() as g:\n",
    "        pred = linear_regression(X)\n",
    "        loss = mean_square(pred, Y)\n",
    "        \n",
    "    # Gradient Berechnen\n",
    "    gradients = g.gradient(loss, [W, b])\n",
    "    \n",
    "    # W und b nach Gradient updaten\n",
    "    optimizer.apply_gradients(zip(gradients, [W, b]))"
   ]
  },
  {
   "cell_type": "code",
   "execution_count": 72,
   "metadata": {},
   "outputs": [
    {
     "name": "stdout",
     "output_type": "stream",
     "text": [
      "step: 50, loss: 0.154381, W: 0.242468, b: 0.863790\n",
      "step: 100, loss: 0.154268, W: 0.243517, b: 0.856353\n",
      "step: 150, loss: 0.154179, W: 0.244446, b: 0.849767\n",
      "step: 200, loss: 0.154110, W: 0.245269, b: 0.843935\n",
      "step: 250, loss: 0.154055, W: 0.245997, b: 0.838770\n",
      "step: 300, loss: 0.154013, W: 0.246642, b: 0.834196\n",
      "step: 350, loss: 0.153979, W: 0.247214, b: 0.830145\n",
      "step: 400, loss: 0.153953, W: 0.247720, b: 0.826559\n",
      "step: 450, loss: 0.153932, W: 0.248168, b: 0.823382\n",
      "step: 500, loss: 0.153916, W: 0.248564, b: 0.820569\n",
      "step: 550, loss: 0.153904, W: 0.248916, b: 0.818078\n",
      "step: 600, loss: 0.153894, W: 0.249227, b: 0.815872\n",
      "step: 650, loss: 0.153886, W: 0.249503, b: 0.813919\n",
      "step: 700, loss: 0.153880, W: 0.249747, b: 0.812189\n",
      "step: 750, loss: 0.153875, W: 0.249963, b: 0.810657\n",
      "step: 800, loss: 0.153871, W: 0.250154, b: 0.809300\n",
      "step: 850, loss: 0.153868, W: 0.250323, b: 0.808099\n",
      "step: 900, loss: 0.153866, W: 0.250474, b: 0.807035\n",
      "step: 950, loss: 0.153864, W: 0.250606, b: 0.806093\n",
      "step: 1000, loss: 0.153863, W: 0.250724, b: 0.805258\n"
     ]
    }
   ],
   "source": [
    "for step in range(1, training_steps + 1):\n",
    "    run_optimization()\n",
    "    \n",
    "    if step % display_step == 0:\n",
    "        pred = linear_regression(X)\n",
    "        loss = mean_square(pred, Y)\n",
    "        print(\"step: %i, loss: %f, W: %f, b: %f\" % (step, loss, W.numpy(), b.numpy()))"
   ]
  },
  {
   "cell_type": "code",
   "execution_count": 73,
   "metadata": {},
   "outputs": [],
   "source": [
    "import matplotlib.pyplot as plt"
   ]
  },
  {
   "cell_type": "code",
   "execution_count": 74,
   "metadata": {},
   "outputs": [
    {
     "data": {
      "image/png": "[encoded data removed]",
      "text/plain": [
       "<Figure size 432x288 with 1 Axes>"
      ]
     },
     "metadata": {
      "needs_background": "light"
     },
     "output_type": "display_data"
    }
   ],
   "source": [
    "plt.plot(X, Y, 'ro', label='Original data')\n",
    "plt.plot(X, np.array(W * X + b), label='Fitted line')\n",
    "plt.legend()\n",
    "plt.show()"
   ]
  },
  {
   "cell_type": "code",
   "execution_count": 75,
   "metadata": {},
   "outputs": [],
   "source": [
    "# Logistic Regression with the MNIST Data Set\n",
    "#\n",
    "#\n",
    "#\n",
    "#\n",
    "#\n",
    "#\n",
    "#\n",
    "#\n",
    "#\n",
    "num_classes = 10 # von 0 bis 9\n",
    "num_features = 28 * 28 # Die einzelnen Bilder sind 28 * 28\n",
    "\n",
    "# Trainings Params\n",
    "learning_rate = 0.01\n",
    "training_steps = 1000\n",
    "batch_size = 256\n",
    "display_step = 50"
   ]
  },
  {
   "cell_type": "code",
   "execution_count": 76,
   "metadata": {},
   "outputs": [],
   "source": [
    "from tensorflow.keras.datasets import mnist\n",
    "(x_train, y_train), (x_test, y_test) = mnist.load_data()\n",
    "\n",
    "# Convert to float32.\n",
    "x_train, x_test = np.array(x_train, np.float32), np.array(x_test, np.float32)\n",
    "\n",
    "# Flatten images to 1-D vector of 784 features (28*28).\n",
    "x_train, x_test = x_train.reshape([-1, num_features]), x_test.reshape([-1, num_features])\n",
    "\n",
    "# Normalize images value from [0, 255] to [0, 1].\n",
    "x_train, x_test = x_train / 255., x_test / 255."
   ]
  },
  {
   "cell_type": "code",
   "execution_count": 83,
   "metadata": {},
   "outputs": [],
   "source": [
    "train_data = tf.data.Dataset.from_tensor_slices((x_train, y_train))\n",
    "train_data = train_data.repeat().shuffle(5000).batch(batch_size).prefetch(1)"
   ]
  },
  {
   "cell_type": "code",
   "execution_count": 85,
   "metadata": {},
   "outputs": [],
   "source": [
    "# Weights shape [784, 10] da Input = 28 * 28 und dann noch für die 10 möglichen klassen\n",
    "W = tf.Variable(tf.ones([num_features, num_classes]), name=\"weight\")\n",
    "\n",
    "# Bias shape [10] da die Inputs kein bias haben\n",
    "b = tf.Variable(tf.zeros([num_classes]), name=\"bias\")\n",
    "\n",
    "# Logistic regression:\n",
    "def logistic_regression(x):\n",
    "    # Softmax zur normalisierung für Wahrscheinlickeitsverteilung\n",
    "    return tf.nn.softmax(tf.matmul(x, W) + b)\n",
    "\n",
    "# Cross-Entropy loss function\n",
    "def cross_entropy(y_pred, y_true):\n",
    "    # One Hot vector\n",
    "    y_true = tf.one_hot(y_true, depth=num_classes)\n",
    "    # Clip prediction values to avoid log(0) error.\n",
    "    y_pred = tf.clip_by_value(y_pred, 1e-9, 1.)\n",
    "    # Compute cross-entropy.\n",
    "    return tf.reduce_mean(-tf.reduce_sum(y_true * tf.math.log(y_pred),1))\n",
    "\n",
    "def accuracy(y_pred, y_true):\n",
    "    # Höchster Score ist die vorrausgesagte Klasse\n",
    "    correct_prediction = tf.equal(tf.argmax(y_pred, 1), tf.cast(y_true, tf.int64))\n",
    "    return tf.reduce_mean(tf.cast(correct_prediction, tf.float32))\n",
    "\n",
    "# Gradientoptimierer\n",
    "optimizer = tf.optimizers.SGD(learning_rate)"
   ]
  },
  {
   "cell_type": "code",
   "execution_count": 86,
   "metadata": {},
   "outputs": [],
   "source": [
    "# Optimization process.\n",
    "def run_optimization(x, y):\n",
    "    with tf.GradientTape() as g:\n",
    "        pred = logistic_regression(x)\n",
    "        loss = cross_entropy(pred, y)\n",
    "        \n",
    "    gradients = g.gradient(loss, [W, b])\n",
    "    \n",
    "    optimizer.apply_gradients(zip(gradients, [W, b]))"
   ]
  },
  {
   "cell_type": "code",
   "execution_count": 93,
   "metadata": {},
   "outputs": [
    {
     "name": "stdout",
     "output_type": "stream",
     "text": [
      "step: 50, loss: 0.628831, accuracy: 0.855469\n",
      "step: 100, loss: 0.533036, accuracy: 0.894531\n",
      "step: 150, loss: 0.544943, accuracy: 0.890625\n",
      "step: 200, loss: 0.593655, accuracy: 0.847656\n",
      "step: 250, loss: 0.580509, accuracy: 0.851562\n",
      "step: 300, loss: 0.550355, accuracy: 0.886719\n",
      "step: 350, loss: 0.553981, accuracy: 0.878906\n",
      "step: 400, loss: 0.539528, accuracy: 0.875000\n",
      "step: 450, loss: 0.536410, accuracy: 0.863281\n",
      "step: 500, loss: 0.577185, accuracy: 0.867188\n",
      "step: 550, loss: 0.529824, accuracy: 0.871094\n",
      "step: 600, loss: 0.678038, accuracy: 0.804688\n",
      "step: 650, loss: 0.487514, accuracy: 0.882812\n",
      "step: 700, loss: 0.460288, accuracy: 0.906250\n",
      "step: 750, loss: 0.477568, accuracy: 0.890625\n",
      "step: 800, loss: 0.507908, accuracy: 0.863281\n",
      "step: 850, loss: 0.502708, accuracy: 0.871094\n",
      "step: 900, loss: 0.470778, accuracy: 0.890625\n",
      "step: 950, loss: 0.540850, accuracy: 0.855469\n",
      "step: 1000, loss: 0.475161, accuracy: 0.898438\n"
     ]
    }
   ],
   "source": [
    "# Hier ist gut zu erkennen, dass mehr training nicht immer zum besseren Ergebnis führt. Der Loss geht im allgemeinen r unter aber die Acc schwankt. \n",
    "# Hier könnten sich andere Verfahren anbieten um ggf. overfitting zu verhindern.\n",
    "\n",
    "for step, (batch_x, batch_y) in enumerate(train_data.take(training_steps), 1):\n",
    "    run_optimization(batch_x, batch_y)\n",
    "    \n",
    "    if step % display_step == 0:\n",
    "        pred = logistic_regression(batch_x)\n",
    "        loss = cross_entropy(pred, batch_y)\n",
    "        acc = accuracy(pred, batch_y)\n",
    "        print(\"step: %i, loss: %f, accuracy: %f\" % (step, loss, acc))"
   ]
  },
  {
   "cell_type": "code",
   "execution_count": 94,
   "metadata": {},
   "outputs": [
    {
     "name": "stdout",
     "output_type": "stream",
     "text": [
      "Test Accuracy: 0.885400\n"
     ]
    }
   ],
   "source": [
    "# Testing the model\n",
    "pred = logistic_regression(x_test)\n",
    "print(\"Test Accuracy: %f\" % accuracy(pred, y_test))"
   ]
  },
  {
   "cell_type": "code",
   "execution_count": 95,
   "metadata": {},
   "outputs": [],
   "source": [
    "import matplotlib.pyplot as plt"
   ]
  },
  {
   "cell_type": "code",
   "execution_count": 96,
   "metadata": {
    "collapsed": true,
    "jupyter": {
     "outputs_hidden": true
    }
   },
   "outputs": [
    {
     "data": {
      "image/png": "[encoded data removed]",
      "text/plain": [
       "<Figure size 432x288 with 1 Axes>"
      ]
     },
     "metadata": {
      "needs_background": "light"
     },
     "output_type": "display_data"
    },
    {
     "name": "stdout",
     "output_type": "stream",
     "text": [
      "Model prediction: 7\n"
     ]
    },
    {
     "data": {
      "image/png": "[encoded data removed]",
      "text/plain": [
       "<Figure size 432x288 with 1 Axes>"
      ]
     },
     "metadata": {
      "needs_background": "light"
     },
     "output_type": "display_data"
    },
    {
     "name": "stdout",
     "output_type": "stream",
     "text": [
      "Model prediction: 2\n"
     ]
    },
    {
     "data": {
      "image/png": "[encoded data removed]",
      "text/plain": [
       "<Figure size 432x288 with 1 Axes>"
      ]
     },
     "metadata": {
      "needs_background": "light"
     },
     "output_type": "display_data"
    },
    {
     "name": "stdout",
     "output_type": "stream",
     "text": [
      "Model prediction: 1\n"
     ]
    },
    {
     "data": {
      "image/png": "[encoded data removed]",
      "text/plain": [
       "<Figure size 432x288 with 1 Axes>"
      ]
     },
     "metadata": {
      "needs_background": "light"
     },
     "output_type": "display_data"
    },
    {
     "name": "stdout",
     "output_type": "stream",
     "text": [
      "Model prediction: 0\n"
     ]
    },
    {
     "data": {
      "image/png": "[encoded data removed]",
      "text/plain": [
       "<Figure size 432x288 with 1 Axes>"
      ]
     },
     "metadata": {
      "needs_background": "light"
     },
     "output_type": "display_data"
    },
    {
     "name": "stdout",
     "output_type": "stream",
     "text": [
      "Model prediction: 4\n"
     ]
    },
    {
     "data": {
      "image/png": "[encoded data removed]",
      "text/plain": [
       "<Figure size 432x288 with 1 Axes>"
      ]
     },
     "metadata": {
      "needs_background": "light"
     },
     "output_type": "display_data"
    },
    {
     "name": "stdout",
     "output_type": "stream",
     "text": [
      "Model prediction: 1\n"
     ]
    },
    {
     "data": {
      "image/png": "[encoded data removed]",
      "text/plain": [
       "<Figure size 432x288 with 1 Axes>"
      ]
     },
     "metadata": {
      "needs_background": "light"
     },
     "output_type": "display_data"
    },
    {
     "name": "stdout",
     "output_type": "stream",
     "text": [
      "Model prediction: 4\n"
     ]
    },
    {
     "data": {
      "image/png": "[encoded data removed]",
      "text/plain": [
       "<Figure size 432x288 with 1 Axes>"
      ]
     },
     "metadata": {
      "needs_background": "light"
     },
     "output_type": "display_data"
    },
    {
     "name": "stdout",
     "output_type": "stream",
     "text": [
      "Model prediction: 9\n"
     ]
    },
    {
     "data": {
      "image/png": "[encoded data removed]",
      "text/plain": [
       "<Figure size 432x288 with 1 Axes>"
      ]
     },
     "metadata": {
      "needs_background": "light"
     },
     "output_type": "display_data"
    },
    {
     "name": "stdout",
     "output_type": "stream",
     "text": [
      "Model prediction: 6\n"
     ]
    },
    {
     "data": {
      "image/png": "[encoded data removed]",
      "text/plain": [
       "<Figure size 432x288 with 1 Axes>"
      ]
     },
     "metadata": {
      "needs_background": "light"
     },
     "output_type": "display_data"
    },
    {
     "name": "stdout",
     "output_type": "stream",
     "text": [
      "Model prediction: 9\n"
     ]
    }
   ],
   "source": [
    "n_images = 10\n",
    "test_images = x_test[:n_images]\n",
    "predictions = logistic_regression(test_images)\n",
    "\n",
    "for i in range(n_images):\n",
    "    plt.imshow(np.reshape(test_images[i], [28, 28]), cmap='gray')\n",
    "    plt.show()\n",
    "    print(\"Model prediction: %i\" % np.argmax(predictions.numpy()[i]))"
   ]
  },
  {
   "cell_type": "code",
   "execution_count": 97,
   "metadata": {},
   "outputs": [],
   "source": [
    "########################\n",
    "########################\n",
    "### Word 2 Vec #########\n",
    "########################\n",
    "########################"
   ]
  },
  {
   "cell_type": "code",
   "execution_count": 159,
   "metadata": {},
   "outputs": [],
   "source": [
    "from __future__ import division, print_function, absolute_import\n",
    "\n",
    "import collections\n",
    "import os\n",
    "import random\n",
    "import urllib.request\n",
    "import zipfile\n",
    "\n",
    "import numpy as np\n",
    "import tensorflow as tf"
   ]
  },
  {
   "cell_type": "code",
   "execution_count": 160,
   "metadata": {},
   "outputs": [],
   "source": [
    "# Training Parameters.\n",
    "learning_rate = 0.1\n",
    "batch_size = 128\n",
    "num_steps = 3000000\n",
    "display_step = 10000\n",
    "eval_step = 200000\n",
    "\n",
    "# Evaluation Parameters.\n",
    "eval_words = ['five', 'of', 'going', 'hardware', 'american', 'britain']\n",
    "\n",
    "# Word2Vec Parameters.\n",
    "embedding_size = 200 # Dimension of the embedding vector.\n",
    "max_vocabulary_size = 50000 # Total number of different words in the vocabulary.\n",
    "min_occurrence = 10 # Remove all words that does not appears at least n times.\n",
    "skip_window = 3 # How many words to consider left and right.\n",
    "num_skips = 2 # How many times to reuse an input to generate a label.\n",
    "num_sampled = 64 # Number of negative examples to sample."
   ]
  },
  {
   "cell_type": "code",
   "execution_count": 161,
   "metadata": {},
   "outputs": [],
   "source": [
    "# Download Wikipedia sample\n",
    "url = 'http://mattmahoney.net/dc/text8.zip'\n",
    "data_path = 'text8.zip'\n",
    "if not os.path.exists(data_path):\n",
    "    print(\"Downloading the dataset...\")\n",
    "    filename, _ = urllib.request.urlretrieve(url, data_path)\n",
    "    print(\"Done\")\n",
    "    \n",
    "with zipfile.ZipFile(data_path) as f:\n",
    "    text_words = f.read(f.namelist()[0]).lower().decode('UTF-8').split()"
   ]
  },
  {
   "cell_type": "code",
   "execution_count": 162,
   "metadata": {},
   "outputs": [
    {
     "name": "stdout",
     "output_type": "stream",
     "text": [
      "Words count: 17005207\n",
      "Unique words: 253854\n",
      "Vocabulary size: 47135\n",
      "Most common words: [('UNK', 444176), ('the', 1061396), ('of', 593677), ('and', 416629), ('one', 411764), ('in', 372201), ('a', 325873), ('to', 316376), ('zero', 264975), ('nine', 250430)]\n"
     ]
    }
   ],
   "source": [
    "# Bauen des Dict. seltene Wörter werden mit UNK ersetzt\n",
    "count = [('UNK', -1)]\n",
    "count.extend(collections.Counter(text_words).most_common(max_vocabulary_size - 1))\n",
    "\n",
    "for i in range(len(count) - 1, -1, -1):\n",
    "    if count[i][1] < min_occurrence:\n",
    "        count.pop(i)\n",
    "    else:\n",
    "        # Fertig sortiert\n",
    "        break\n",
    "\n",
    "vocabulary_size = len(count)\n",
    "word2id = dict()\n",
    "for i, (word, _)in enumerate(count):\n",
    "    word2id[word] = i\n",
    "\n",
    "data = list()\n",
    "unk_count = 0\n",
    "for word in text_words:\n",
    "    # Retrieve a word id, or assign it index 0 ('UNK') if not in dictionary.\n",
    "    index = word2id.get(word, 0)\n",
    "    if index == 0:\n",
    "        unk_count += 1\n",
    "    data.append(index)\n",
    "count[0] = ('UNK', unk_count)\n",
    "id2word = dict(zip(word2id.values(), word2id.keys()))\n",
    "\n",
    "print(\"Words count:\", len(text_words))\n",
    "print(\"Unique words:\", len(set(text_words)))\n",
    "print(\"Vocabulary size:\", vocabulary_size)\n",
    "print(\"Most common words:\", count[:10])"
   ]
  },
  {
   "cell_type": "code",
   "execution_count": 163,
   "metadata": {},
   "outputs": [],
   "source": [
    "data_index = 0\n",
    "\n",
    "def next_batch(batch_size, num_skips, skip_window):\n",
    "    global data_index\n",
    "    assert batch_size % num_skips == 0\n",
    "    assert num_skips <= 2 * skip_window\n",
    "    batch = np.ndarray(shape=(batch_size), dtype=np.int32)\n",
    "    labels = np.ndarray(shape=(batch_size, 1), dtype=np.int32)\n",
    "    \n",
    "    # window size\n",
    "    span = 2 * skip_window + 1\n",
    "    buffer = collections.deque(maxlen=span)\n",
    "    if data_index + span > len(data):\n",
    "        data_index = 0\n",
    "    buffer.extend(data[data_index:data_index + span])\n",
    "    data_index += span\n",
    "    \n",
    "    for i in range(batch_size // num_skips):\n",
    "        context_words = [w for w in range(span) if w != skip_window]\n",
    "        words_to_use = random.sample(context_words, num_skips)\n",
    "        for j, context_word in enumerate(words_to_use):\n",
    "            batch[i * num_skips + j] = buffer[skip_window]\n",
    "            labels[i * num_skips + j, 0] = buffer[context_word]\n",
    "        if data_index == len(data):\n",
    "            buffer.extend(data[0:span])\n",
    "            data_index = span\n",
    "        else:\n",
    "            buffer.append(data[data_index])\n",
    "            data_index += 1\n",
    "            \n",
    "    # Backtrack a little bit to avoid skipping words in the end of a batch.\n",
    "    data_index = (data_index + len(data) - span) % len(data)\n",
    "    return batch, labels"
   ]
  },
  {
   "cell_type": "code",
   "execution_count": 164,
   "metadata": {},
   "outputs": [],
   "source": [
    "# Ensure the following ops & var are assigned on CPU\n",
    "# (some ops are not compatible on GPU).\n",
    "with tf.device('/cpu:0'):\n",
    "    # Create the embedding variable (each row represent a word embedding vector).\n",
    "    embedding = tf.Variable(tf.random.normal([vocabulary_size, embedding_size]))\n",
    "    # Construct the variables for the NCE loss.\n",
    "    nce_weights = tf.Variable(tf.random.normal([vocabulary_size, embedding_size]))\n",
    "    nce_biases = tf.Variable(tf.zeros([vocabulary_size]))\n",
    "\n",
    "def get_embedding(x):\n",
    "    with tf.device('/cpu:0'):\n",
    "        # Lookup the corresponding embedding vectors for each sample in X.\n",
    "        x_embed = tf.nn.embedding_lookup(embedding, x)\n",
    "        return x_embed\n",
    "\n",
    "    \n",
    "# Noise Contrastive Estimation // Rausch Kontrastive Schätzung\n",
    "def nce_loss(x_embed, y):\n",
    "    with tf.device('/cpu:0'):\n",
    "        # Compute the average NCE loss for the batch.\n",
    "        y = tf.cast(y, tf.int64)\n",
    "        loss = tf.reduce_mean(\n",
    "            tf.nn.nce_loss(weights=nce_weights,\n",
    "                           biases=nce_biases,\n",
    "                           labels=y,\n",
    "                           inputs=x_embed,\n",
    "                           num_sampled=num_sampled,\n",
    "                           num_classes=vocabulary_size))\n",
    "        return loss\n",
    "\n",
    "# Evaluation.\n",
    "def evaluate(x_embed):\n",
    "    with tf.device('/cpu:0'):\n",
    "        # Compute the cosine similarity between input data embedding and every embedding vectors\n",
    "        x_embed = tf.cast(x_embed, tf.float32)\n",
    "        x_embed_norm = x_embed / tf.sqrt(tf.reduce_sum(tf.square(x_embed)))\n",
    "        embedding_norm = embedding / tf.sqrt(tf.reduce_sum(tf.square(embedding), 1, keepdims=True), tf.float32)\n",
    "        cosine_sim_op = tf.matmul(x_embed_norm, embedding_norm, transpose_b=True)\n",
    "        return cosine_sim_op\n",
    "\n",
    "# Define the optimizer.\n",
    "optimizer = tf.optimizers.SGD(learning_rate)"
   ]
  },
  {
   "cell_type": "code",
   "execution_count": 165,
   "metadata": {},
   "outputs": [],
   "source": [
    "def run_optimization(x, y):\n",
    "    with tf.device('/cpu:0'):\n",
    "        with tf.GradientTape() as g:\n",
    "            emb = get_embedding(x)\n",
    "            loss = nce_loss(emb, y)\n",
    "\n",
    "        gradients = g.gradient(loss, [embedding, nce_weights, nce_biases])\n",
    "        optimizer.apply_gradients(zip(gradients, [embedding, nce_weights, nce_biases]))"
   ]
  },
  {
   "cell_type": "code",
   "execution_count": null,
   "metadata": {},
   "outputs": [
    {
     "name": "stdout",
     "output_type": "stream",
     "text": [
      "step: 1, loss: 495.719299\n",
      "Evaluation...\n",
      "\"five\" nearest neighbors: semitone, dismantling, tendon, oftentimes, hermetic, precaution, dresses, birthrate,\n",
      "\"of\" nearest neighbors: kwajalein, improves, integrins, rigidity, leslie, newtonian, hep, fets,\n",
      "\"going\" nearest neighbors: laptops, lyceum, eddington, airflow, i, wrongdoing, untouched, informants,\n",
      "\"hardware\" nearest neighbors: allows, delgado, fade, translation, ieung, contending, charles, inconsistent,\n",
      "\"american\" nearest neighbors: happening, clades, cezanne, arpa, tanach, colic, ailey, abram,\n",
      "\"britain\" nearest neighbors: cordillera, voluntary, honorific, vitality, sociable, ayla, replication, hannibal,\n",
      "step: 10000, loss: 123.904053\n",
      "step: 20000, loss: 68.066299\n",
      "step: 30000, loss: 60.279987\n",
      "step: 40000, loss: 29.197636\n",
      "step: 50000, loss: 31.629002\n",
      "step: 60000, loss: 37.361191\n",
      "step: 70000, loss: 24.639824\n",
      "step: 80000, loss: 24.291588\n",
      "step: 90000, loss: 26.804214\n",
      "step: 100000, loss: 19.343039\n",
      "step: 110000, loss: 27.505978\n",
      "step: 120000, loss: 20.388409\n",
      "step: 130000, loss: 24.122391\n",
      "step: 140000, loss: 15.749226\n",
      "step: 150000, loss: 13.074329\n",
      "step: 160000, loss: 19.917519\n",
      "step: 170000, loss: 13.224222\n",
      "step: 180000, loss: 13.094409\n",
      "step: 190000, loss: 19.346848\n",
      "step: 200000, loss: 21.478628\n",
      "Evaluation...\n",
      "\"five\" nearest neighbors: four, three, eight, seven, six, two, nine, zero,\n",
      "\"of\" nearest neighbors: the, first, and, all, for, when, a, with,\n",
      "\"going\" nearest neighbors: one, nine, four, two, seven, UNK, five, three,\n",
      "\"hardware\" nearest neighbors: allows, translation, peter, charles, names, animals, describe, novel,\n",
      "\"american\" nearest neighbors: UNK, and, in, after, from, on, the, over,\n",
      "\"britain\" nearest neighbors: name, made, american, was, it, through, an, eight,\n",
      "step: 210000, loss: 12.385956\n",
      "step: 220000, loss: 10.448874\n",
      "step: 230000, loss: 12.112207\n",
      "step: 240000, loss: 17.472540\n",
      "step: 250000, loss: 8.401628\n",
      "step: 260000, loss: 32.090527\n",
      "step: 270000, loss: 17.834669\n",
      "step: 280000, loss: 6.052984\n",
      "step: 290000, loss: 13.460943\n",
      "step: 300000, loss: 6.663499\n",
      "step: 310000, loss: 7.261794\n",
      "step: 320000, loss: 10.689327\n",
      "step: 330000, loss: 6.465772\n",
      "step: 340000, loss: 9.009416\n",
      "step: 350000, loss: 10.271352\n",
      "step: 360000, loss: 8.997895\n",
      "step: 370000, loss: 10.350137\n",
      "step: 380000, loss: 9.289623\n",
      "step: 390000, loss: 6.660734\n",
      "step: 400000, loss: 10.118019\n",
      "Evaluation...\n",
      "\"five\" nearest neighbors: three, four, six, seven, eight, two, one, zero,\n",
      "\"of\" nearest neighbors: the, and, with, while, for, which, or, from,\n",
      "\"going\" nearest neighbors: i, UNK, de, when, e, at, became, her,\n",
      "\"hardware\" nearest neighbors: be, allows, could, known, how, was, john, people,\n",
      "\"american\" nearest neighbors: and, british, s, english, UNK, at, including, during,\n",
      "\"britain\" nearest neighbors: like, group, since, when, were, through, including, he,\n",
      "step: 410000, loss: 8.703581\n",
      "step: 420000, loss: 7.001748\n",
      "step: 430000, loss: 14.018980\n",
      "step: 440000, loss: 10.320107\n",
      "step: 450000, loss: 7.944788\n",
      "step: 460000, loss: 9.049341\n",
      "step: 470000, loss: 7.879668\n",
      "step: 480000, loss: 18.533382\n",
      "step: 490000, loss: 12.053120\n",
      "step: 500000, loss: 13.343308\n",
      "step: 510000, loss: 13.088497\n",
      "step: 520000, loss: 9.598779\n",
      "step: 530000, loss: 12.841695\n",
      "step: 540000, loss: 6.444723\n",
      "step: 550000, loss: 13.067606\n",
      "step: 560000, loss: 8.364269\n",
      "step: 570000, loss: 5.413484\n",
      "step: 580000, loss: 5.391998\n",
      "step: 590000, loss: 5.922981\n",
      "step: 600000, loss: 16.871204\n",
      "Evaluation...\n",
      "\"five\" nearest neighbors: four, three, six, two, seven, eight, one, zero,\n",
      "\"of\" nearest neighbors: the, and, including, in, for, while, with, or,\n",
      "\"going\" nearest neighbors: great, i, each, her, e, became, order, god,\n",
      "\"hardware\" nearest neighbors: how, work, time, world, book, are, then, UNK,\n",
      "\"american\" nearest neighbors: german, english, french, s, john, film, and, b,\n",
      "\"britain\" nearest neighbors: out, like, around, in, all, and, book, while,\n",
      "step: 610000, loss: 22.362202\n",
      "step: 620000, loss: 8.686415\n",
      "step: 630000, loss: 8.572686\n",
      "step: 640000, loss: 7.747410\n",
      "step: 650000, loss: 6.749395\n",
      "step: 660000, loss: 6.692842\n",
      "step: 670000, loss: 7.038610\n",
      "step: 680000, loss: 5.635003\n",
      "step: 690000, loss: 10.638241\n",
      "step: 700000, loss: 6.095817\n",
      "step: 710000, loss: 9.433814\n",
      "step: 720000, loss: 6.438489\n",
      "step: 730000, loss: 6.062903\n",
      "step: 740000, loss: 7.696084\n",
      "step: 750000, loss: 7.173461\n",
      "step: 760000, loss: 6.542807\n",
      "step: 770000, loss: 9.043993\n",
      "step: 780000, loss: 7.976662\n",
      "step: 790000, loss: 8.629215\n",
      "step: 800000, loss: 8.982040\n",
      "Evaluation...\n",
      "\"five\" nearest neighbors: four, three, six, seven, eight, two, one, nine,\n",
      "\"of\" nearest neighbors: and, in, with, the, a, for, its, on,\n",
      "\"going\" nearest neighbors: his, a, was, how, s, then, became, only,\n",
      "\"hardware\" nearest neighbors: greek, how, called, known, led, was, still, then,\n",
      "\"american\" nearest neighbors: english, french, b, born, d, british, german, john,\n",
      "\"britain\" nearest neighbors: out, and, second, when, like, group, made, in,\n",
      "step: 810000, loss: 8.299010\n",
      "step: 820000, loss: 6.955098\n",
      "step: 830000, loss: 5.247888\n"
     ]
    }
   ],
   "source": [
    "# Words for testing.\n",
    "x_test = np.array([word2id[w] for w in eval_words])\n",
    "\n",
    "# Run training for the given number of steps.\n",
    "for step in range(1, num_steps + 1):\n",
    "    batch_x, batch_y = next_batch(batch_size, num_skips, skip_window)\n",
    "    run_optimization(batch_x, batch_y)\n",
    "    \n",
    "    if step % display_step == 0 or step == 1:\n",
    "        loss = nce_loss(get_embedding(batch_x), batch_y)\n",
    "        print(\"step: %i, loss: %f\" % (step, loss))\n",
    "        \n",
    "    # Evaluation.\n",
    "    if step % eval_step == 0 or step == 1:\n",
    "        print(\"Evaluation...\")\n",
    "        sim = evaluate(get_embedding(x_test)).numpy()\n",
    "        for i in range(len(eval_words)):\n",
    "            top_k = 8  # number of nearest neighbors.\n",
    "            nearest = (-sim[i, :]).argsort()[1:top_k + 1]\n",
    "            log_str = '\"%s\" nearest neighbors:' % eval_words[i]\n",
    "            for k in range(top_k):\n",
    "                log_str = '%s %s,' % (log_str, id2word[nearest[k]])\n",
    "            print(log_str)"
   ]
  },
  {
   "cell_type": "code",
   "execution_count": 1,
   "metadata": {},
   "outputs": [],
   "source": [
    "###############################################\n",
    "#### Gradient Boosted Decision Tree (GBDT) ####\n",
    "###############################################\n",
    "\n",
    "from __future__ import print_function\n",
    "\n",
    "# Ignore all GPUs (current TF GBDT does not support GPU).\n",
    "import os\n",
    "os.environ[\"CUDA_VISIBLE_DEVICES\"] = \"\"\n",
    "os.environ['TF_CPP_MIN_LOG_LEVEL'] = \"1\"\n",
    "\n",
    "import tensorflow as tf\n",
    "import numpy as np\n",
    "import copy"
   ]
  },
  {
   "cell_type": "code",
   "execution_count": 2,
   "metadata": {},
   "outputs": [],
   "source": [
    "num_classes = 2\n",
    "num_features = 13\n",
    "\n",
    "# Training\n",
    "max_steps = 2000\n",
    "batch_size = 256\n",
    "learning_rate = 1.0\n",
    "l1_regul = 0.0\n",
    "l2_regul = 0.1\n",
    "\n",
    "# GBDT Params\n",
    "num_batches_per_layer = 1000\n",
    "num_trees = 10\n",
    "max_depth = 4"
   ]
  },
  {
   "cell_type": "code",
   "execution_count": 3,
   "metadata": {},
   "outputs": [
    {
     "name": "stdout",
     "output_type": "stream",
     "text": [
      "Downloading data from https://storage.googleapis.com/tensorflow/tf-keras-datasets/boston_housing.npz\n",
      "57344/57026 [==============================] - 0s 1us/step\n"
     ]
    }
   ],
   "source": [
    "from tensorflow.keras.datasets import boston_housing\n",
    "(x_train, y_train), (x_test, y_test) = boston_housing.load_data()\n",
    "\n",
    "# Zur klassifizierung, 2 Klassen: Preis > 23k oder kleiner\n",
    "def to_binary_class(y):\n",
    "    for i, label in enumerate(y):\n",
    "        if label >= 23.0:\n",
    "            y[i] = 1\n",
    "        else:\n",
    "            y[i] = 0\n",
    "    return y\n",
    "\n",
    "y_train_binary = to_binary_class(copy.deepcopy(y_train))\n",
    "y_test_binary = to_binary_class(copy.deepcopy(y_test))"
   ]
  },
  {
   "cell_type": "code",
   "execution_count": 4,
   "metadata": {},
   "outputs": [],
   "source": [
    "# GBDT Klassifizierer\n",
    "train_input_fn = tf.compat.v1.estimator.inputs.numpy_input_fn(\n",
    "    x={'x': x_train}, y=y_train_binary, batch_size=batch_size, num_epochs=None, shuffle=True)\n",
    "test_input_fn = tf.compat.v1.estimator.inputs.numpy_input_fn(\n",
    "    x={'x': x_test}, y=y_test_binary, batch_size=batch_size, num_epochs=1, shuffle=False)\n",
    "test_train_input_fn = tf.compat.v1.estimator.inputs.numpy_input_fn(\n",
    "    x={'x': x_train}, y=y_train_binary, batch_size=batch_size, num_epochs=1, shuffle=False)\n",
    "\n",
    "# GBDT Modelle von TF Estimator brauchen 'feature column' Datenformat\n",
    "feature_columns = [tf.feature_column.numeric_column(key='x', shape=(num_features, ))]"
   ]
  },
  {
   "cell_type": "code",
   "execution_count": 5,
   "metadata": {},
   "outputs": [
    {
     "name": "stdout",
     "output_type": "stream",
     "text": [
      "INFO:tensorflow:Using default config.\n",
      "WARNING:tensorflow:Using temporary folder as model directory: C:\\Users\\Nico\\AppData\\Local\\Temp\\tmpuo7qz7go\n",
      "INFO:tensorflow:Using config: {'_model_dir': 'C:\\\\Users\\\\Nico\\\\AppData\\\\Local\\\\Temp\\\\tmpuo7qz7go', '_tf_random_seed': None, '_save_summary_steps': 100, '_save_checkpoints_steps': None, '_save_checkpoints_secs': 600, '_session_config': allow_soft_placement: true\n",
      "graph_options {\n",
      "  rewrite_options {\n",
      "    meta_optimizer_iterations: ONE\n",
      "  }\n",
      "}\n",
      ", '_keep_checkpoint_max': 5, '_keep_checkpoint_every_n_hours': 10000, '_log_step_count_steps': 100, '_train_distribute': None, '_device_fn': None, '_protocol': None, '_eval_distribute': None, '_experimental_distribute': None, '_experimental_max_worker_delay_secs': None, '_session_creation_timeout_secs': 7200, '_service': None, '_cluster_spec': <tensorflow.python.training.server_lib.ClusterSpec object at 0x0000026C6B233208>, '_task_type': 'worker', '_task_id': 0, '_global_id_in_cluster': 0, '_master': '', '_evaluation_master': '', '_is_chief': True, '_num_ps_replicas': 0, '_num_worker_replicas': 1}\n"
     ]
    }
   ],
   "source": [
    "gbdt_classifier = tf.estimator.BoostedTreesClassifier(\n",
    "    n_batches_per_layer=num_batches_per_layer,\n",
    "    feature_columns=feature_columns, \n",
    "    n_classes=num_classes,\n",
    "    learning_rate=learning_rate, \n",
    "    n_trees=num_trees,\n",
    "    max_depth=max_depth,\n",
    "    l1_regularization=l1_regul, \n",
    "    l2_regularization=l2_regul\n",
    ")"
   ]
  },
  {
   "cell_type": "code",
   "execution_count": 6,
   "metadata": {},
   "outputs": [
    {
     "name": "stdout",
     "output_type": "stream",
     "text": [
      "WARNING:tensorflow:From E:\\Anaconda\\lib\\site-packages\\tensorflow_core\\python\\ops\\resource_variable_ops.py:1630: calling BaseResourceVariable.__init__ (from tensorflow.python.ops.resource_variable_ops) with constraint is deprecated and will be removed in a future version.\n",
      "Instructions for updating:\n",
      "If using Keras pass *_constraint arguments to layers.\n",
      "WARNING:tensorflow:From E:\\Anaconda\\lib\\site-packages\\tensorflow_core\\python\\training\\training_util.py:236: Variable.initialized_value (from tensorflow.python.ops.variables) is deprecated and will be removed in a future version.\n",
      "Instructions for updating:\n",
      "Use Variable.read_value. Variables in 2.X are initialized automatically both in eager and graph (inside tf.defun) contexts.\n",
      "WARNING:tensorflow:From E:\\Anaconda\\lib\\site-packages\\tensorflow_estimator\\python\\estimator\\inputs\\queues\\feeding_queue_runner.py:62: QueueRunner.__init__ (from tensorflow.python.training.queue_runner_impl) is deprecated and will be removed in a future version.\n",
      "Instructions for updating:\n",
      "To construct input pipelines, use the `tf.data` module.\n",
      "WARNING:tensorflow:From E:\\Anaconda\\lib\\site-packages\\tensorflow_estimator\\python\\estimator\\inputs\\queues\\feeding_functions.py:500: add_queue_runner (from tensorflow.python.training.queue_runner_impl) is deprecated and will be removed in a future version.\n",
      "Instructions for updating:\n",
      "To construct input pipelines, use the `tf.data` module.\n",
      "INFO:tensorflow:Calling model_fn.\n",
      "WARNING:tensorflow:From E:\\Anaconda\\lib\\site-packages\\tensorflow_estimator\\python\\estimator\\canned\\head.py:437: to_float (from tensorflow.python.ops.math_ops) is deprecated and will be removed in a future version.\n",
      "Instructions for updating:\n",
      "Use `tf.cast` instead.\n",
      "INFO:tensorflow:Done calling model_fn.\n",
      "INFO:tensorflow:Create CheckpointSaverHook.\n",
      "WARNING:tensorflow:Issue encountered when serializing resources.\n",
      "Type is unsupported, or the types of the items don't match field type in CollectionDef. Note this is a warning and probably safe to ignore.\n",
      "'_Resource' object has no attribute 'name'\n",
      "INFO:tensorflow:Graph was finalized.\n",
      "INFO:tensorflow:Running local_init_op.\n",
      "INFO:tensorflow:Done running local_init_op.\n",
      "WARNING:tensorflow:From E:\\Anaconda\\lib\\site-packages\\tensorflow_core\\python\\training\\monitored_session.py:882: start_queue_runners (from tensorflow.python.training.queue_runner_impl) is deprecated and will be removed in a future version.\n",
      "Instructions for updating:\n",
      "To construct input pipelines, use the `tf.data` module.\n",
      "WARNING:tensorflow:Issue encountered when serializing resources.\n",
      "Type is unsupported, or the types of the items don't match field type in CollectionDef. Note this is a warning and probably safe to ignore.\n",
      "'_Resource' object has no attribute 'name'\n",
      "INFO:tensorflow:Saving checkpoints for 0 into C:\\Users\\Nico\\AppData\\Local\\Temp\\tmpuo7qz7go\\model.ckpt.\n",
      "WARNING:tensorflow:Issue encountered when serializing resources.\n",
      "Type is unsupported, or the types of the items don't match field type in CollectionDef. Note this is a warning and probably safe to ignore.\n",
      "'_Resource' object has no attribute 'name'\n",
      "INFO:tensorflow:loss = 0.6931475, step = 0\n",
      "WARNING:tensorflow:It seems that global step (tf.train.get_global_step) has not been increased. Current value (could be stable): 0 vs previous value: 0. You could increase the global step by passing tf.train.get_global_step() to Optimizer.apply_gradients or Optimizer.minimize.\n",
      "WARNING:tensorflow:It seems that global step (tf.train.get_global_step) has not been increased. Current value (could be stable): 0 vs previous value: 0. You could increase the global step by passing tf.train.get_global_step() to Optimizer.apply_gradients or Optimizer.minimize.\n",
      "WARNING:tensorflow:It seems that global step (tf.train.get_global_step) has not been increased. Current value (could be stable): 0 vs previous value: 0. You could increase the global step by passing tf.train.get_global_step() to Optimizer.apply_gradients or Optimizer.minimize.\n",
      "WARNING:tensorflow:It seems that global step (tf.train.get_global_step) has not been increased. Current value (could be stable): 0 vs previous value: 0. You could increase the global step by passing tf.train.get_global_step() to Optimizer.apply_gradients or Optimizer.minimize.\n",
      "WARNING:tensorflow:It seems that global step (tf.train.get_global_step) has not been increased. Current value (could be stable): 0 vs previous value: 0. You could increase the global step by passing tf.train.get_global_step() to Optimizer.apply_gradients or Optimizer.minimize.\n",
      "INFO:tensorflow:loss = 0.6931475, step = 0 (0.176 sec)\n",
      "INFO:tensorflow:loss = 0.6931475, step = 0 (0.090 sec)\n",
      "INFO:tensorflow:loss = 0.6931475, step = 0 (0.089 sec)\n",
      "INFO:tensorflow:loss = 0.6931475, step = 0 (0.087 sec)\n",
      "INFO:tensorflow:loss = 0.6931475, step = 0 (0.089 sec)\n",
      "INFO:tensorflow:loss = 0.6931475, step = 0 (0.092 sec)\n",
      "INFO:tensorflow:loss = 0.6931475, step = 0 (0.088 sec)\n",
      "INFO:tensorflow:loss = 0.6931475, step = 0 (0.092 sec)\n",
      "INFO:tensorflow:loss = 0.6931475, step = 0 (0.092 sec)\n",
      "INFO:tensorflow:loss = 0.6931475, step = 0 (0.090 sec)\n",
      "INFO:tensorflow:global_step/sec: 89.9259\n",
      "INFO:tensorflow:loss = 0.6931475, step = 100 (0.132 sec)\n",
      "INFO:tensorflow:global_step/sec: 1113.79\n",
      "INFO:tensorflow:loss = 0.6931475, step = 200 (0.090 sec)\n",
      "INFO:tensorflow:global_step/sec: 1089.82\n",
      "INFO:tensorflow:loss = 0.6931475, step = 300 (0.092 sec)\n",
      "INFO:tensorflow:global_step/sec: 1090.2\n",
      "INFO:tensorflow:loss = 0.6931475, step = 400 (0.092 sec)\n",
      "INFO:tensorflow:global_step/sec: 1101.84\n",
      "INFO:tensorflow:loss = 0.6931475, step = 500 (0.091 sec)\n",
      "INFO:tensorflow:global_step/sec: 1089.87\n",
      "INFO:tensorflow:loss = 0.6931475, step = 600 (0.092 sec)\n",
      "INFO:tensorflow:global_step/sec: 1066.67\n",
      "INFO:tensorflow:loss = 0.6931475, step = 700 (0.093 sec)\n",
      "INFO:tensorflow:global_step/sec: 1101.85\n",
      "INFO:tensorflow:loss = 0.6931475, step = 800 (0.092 sec)\n",
      "INFO:tensorflow:global_step/sec: 992.744\n",
      "INFO:tensorflow:loss = 0.6931475, step = 900 (0.101 sec)\n",
      "INFO:tensorflow:global_step/sec: 1023.14\n",
      "INFO:tensorflow:loss = 0.4832217, step = 1000 (0.098 sec)\n",
      "INFO:tensorflow:global_step/sec: 1012.8\n",
      "INFO:tensorflow:loss = 0.4472313, step = 1100 (0.100 sec)\n",
      "INFO:tensorflow:global_step/sec: 911.524\n",
      "INFO:tensorflow:loss = 0.4635327, step = 1200 (0.109 sec)\n",
      "INFO:tensorflow:global_step/sec: 1114.08\n",
      "INFO:tensorflow:loss = 0.4666879, step = 1300 (0.090 sec)\n",
      "INFO:tensorflow:global_step/sec: 1101.84\n",
      "INFO:tensorflow:loss = 0.44404107, step = 1400 (0.091 sec)\n",
      "INFO:tensorflow:global_step/sec: 1126.6\n",
      "INFO:tensorflow:loss = 0.4378045, step = 1500 (0.089 sec)\n",
      "INFO:tensorflow:global_step/sec: 1114.08\n",
      "INFO:tensorflow:loss = 0.4339412, step = 1600 (0.091 sec)\n",
      "INFO:tensorflow:global_step/sec: 1078.14\n",
      "INFO:tensorflow:loss = 0.47398847, step = 1700 (0.092 sec)\n",
      "INFO:tensorflow:global_step/sec: 1101.84\n",
      "INFO:tensorflow:loss = 0.46949863, step = 1800 (0.091 sec)\n",
      "INFO:tensorflow:global_step/sec: 1078.14\n",
      "INFO:tensorflow:loss = 0.4521051, step = 1900 (0.093 sec)\n",
      "INFO:tensorflow:global_step/sec: 1078.14\n",
      "INFO:tensorflow:Saving checkpoints for 2000 into C:\\Users\\Nico\\AppData\\Local\\Temp\\tmpuo7qz7go\\model.ckpt.\n",
      "WARNING:tensorflow:Issue encountered when serializing resources.\n",
      "Type is unsupported, or the types of the items don't match field type in CollectionDef. Note this is a warning and probably safe to ignore.\n",
      "'_Resource' object has no attribute 'name'\n",
      "INFO:tensorflow:Loss for final step: 0.48965186.\n"
     ]
    },
    {
     "data": {
      "text/plain": [
       "<tensorflow_estimator.python.estimator.canned.boosted_trees.BoostedTreesClassifier at 0x26c6b24c648>"
      ]
     },
     "execution_count": 6,
     "metadata": {},
     "output_type": "execute_result"
    }
   ],
   "source": [
    "gbdt_classifier.train(train_input_fn, max_steps=max_steps)"
   ]
  },
  {
   "cell_type": "code",
   "execution_count": 7,
   "metadata": {},
   "outputs": [
    {
     "name": "stdout",
     "output_type": "stream",
     "text": [
      "INFO:tensorflow:Calling model_fn.\n",
      "WARNING:tensorflow:From E:\\Anaconda\\lib\\site-packages\\tensorflow_core\\python\\ops\\metrics_impl.py:2026: div (from tensorflow.python.ops.math_ops) is deprecated and will be removed in a future version.\n",
      "Instructions for updating:\n",
      "Deprecated in favor of operator or tf.math.divide.\n",
      "WARNING:tensorflow:Trapezoidal rule is known to produce incorrect PR-AUCs; please switch to \"careful_interpolation\" instead.\n",
      "WARNING:tensorflow:Trapezoidal rule is known to produce incorrect PR-AUCs; please switch to \"careful_interpolation\" instead.\n",
      "INFO:tensorflow:Done calling model_fn.\n",
      "INFO:tensorflow:Starting evaluation at 2020-09-09T12:16:52Z\n",
      "INFO:tensorflow:Graph was finalized.\n",
      "INFO:tensorflow:Restoring parameters from C:\\Users\\Nico\\AppData\\Local\\Temp\\tmpuo7qz7go\\model.ckpt-2000\n",
      "INFO:tensorflow:Running local_init_op.\n",
      "INFO:tensorflow:Done running local_init_op.\n",
      "INFO:tensorflow:Finished evaluation at 2020-09-09-12:16:53\n",
      "INFO:tensorflow:Saving dict for global step 2000: accuracy = 0.87376237, accuracy_baseline = 0.63118815, auc = 0.92280567, auc_precision_recall = 0.9104949, average_loss = 0.3823539, global_step = 2000, label/mean = 0.36881188, loss = 0.38617975, precision = 0.8888889, prediction/mean = 0.3789625, recall = 0.7516779\n",
      "WARNING:tensorflow:Issue encountered when serializing resources.\n",
      "Type is unsupported, or the types of the items don't match field type in CollectionDef. Note this is a warning and probably safe to ignore.\n",
      "'_Resource' object has no attribute 'name'\n",
      "INFO:tensorflow:Saving 'checkpoint_path' summary for global step 2000: C:\\Users\\Nico\\AppData\\Local\\Temp\\tmpuo7qz7go\\model.ckpt-2000\n"
     ]
    },
    {
     "data": {
      "text/plain": [
       "{'accuracy': 0.87376237,\n",
       " 'accuracy_baseline': 0.63118815,\n",
       " 'auc': 0.92280567,\n",
       " 'auc_precision_recall': 0.9104949,\n",
       " 'average_loss': 0.3823539,\n",
       " 'label/mean': 0.36881188,\n",
       " 'loss': 0.38617975,\n",
       " 'precision': 0.8888889,\n",
       " 'prediction/mean': 0.3789625,\n",
       " 'recall': 0.7516779,\n",
       " 'global_step': 2000}"
      ]
     },
     "execution_count": 7,
     "metadata": {},
     "output_type": "execute_result"
    }
   ],
   "source": [
    "gbdt_classifier.evaluate(test_train_input_fn)"
   ]
  },
  {
   "cell_type": "code",
   "execution_count": 8,
   "metadata": {},
   "outputs": [
    {
     "name": "stdout",
     "output_type": "stream",
     "text": [
      "INFO:tensorflow:Calling model_fn.\n",
      "WARNING:tensorflow:Trapezoidal rule is known to produce incorrect PR-AUCs; please switch to \"careful_interpolation\" instead.\n",
      "WARNING:tensorflow:Trapezoidal rule is known to produce incorrect PR-AUCs; please switch to \"careful_interpolation\" instead.\n",
      "INFO:tensorflow:Done calling model_fn.\n",
      "INFO:tensorflow:Starting evaluation at 2020-09-09T12:17:22Z\n",
      "INFO:tensorflow:Graph was finalized.\n",
      "INFO:tensorflow:Restoring parameters from C:\\Users\\Nico\\AppData\\Local\\Temp\\tmpuo7qz7go\\model.ckpt-2000\n",
      "INFO:tensorflow:Running local_init_op.\n",
      "INFO:tensorflow:Done running local_init_op.\n",
      "INFO:tensorflow:Finished evaluation at 2020-09-09-12:17:22\n",
      "INFO:tensorflow:Saving dict for global step 2000: accuracy = 0.78431374, accuracy_baseline = 0.5588235, auc = 0.8458089, auc_precision_recall = 0.86285317, average_loss = 0.49402776, global_step = 2000, label/mean = 0.44117647, loss = 0.49402776, precision = 0.87096775, prediction/mean = 0.37467557, recall = 0.6\n",
      "INFO:tensorflow:Saving 'checkpoint_path' summary for global step 2000: C:\\Users\\Nico\\AppData\\Local\\Temp\\tmpuo7qz7go\\model.ckpt-2000\n"
     ]
    },
    {
     "data": {
      "text/plain": [
       "{'accuracy': 0.78431374,\n",
       " 'accuracy_baseline': 0.5588235,\n",
       " 'auc': 0.8458089,\n",
       " 'auc_precision_recall': 0.86285317,\n",
       " 'average_loss': 0.49402776,\n",
       " 'label/mean': 0.44117647,\n",
       " 'loss': 0.49402776,\n",
       " 'precision': 0.87096775,\n",
       " 'prediction/mean': 0.37467557,\n",
       " 'recall': 0.6,\n",
       " 'global_step': 2000}"
      ]
     },
     "execution_count": 8,
     "metadata": {},
     "output_type": "execute_result"
    }
   ],
   "source": [
    "gbdt_classifier.evaluate(test_input_fn)"
   ]
  },
  {
   "cell_type": "code",
   "execution_count": 9,
   "metadata": {},
   "outputs": [],
   "source": [
    "# GBDT Regressor\n",
    "train_input_fn = tf.compat.v1.estimator.inputs.numpy_input_fn(\n",
    "    x={'x': x_train}, y=y_train,\n",
    "    batch_size=batch_size, num_epochs=None, shuffle=True)\n",
    "test_input_fn = tf.compat.v1.estimator.inputs.numpy_input_fn(\n",
    "    x={'x': x_test}, y=y_test,\n",
    "    batch_size=batch_size, num_epochs=1, shuffle=False)\n",
    "# GBDT Models from TF Estimator requires 'feature_column' data format.\n",
    "feature_columns = [tf.feature_column.numeric_column(key='x', shape=(num_features,))]"
   ]
  },
  {
   "cell_type": "code",
   "execution_count": 10,
   "metadata": {},
   "outputs": [
    {
     "name": "stdout",
     "output_type": "stream",
     "text": [
      "INFO:tensorflow:Using default config.\n",
      "WARNING:tensorflow:Using temporary folder as model directory: C:\\Users\\Nico\\AppData\\Local\\Temp\\tmpe99cimsv\n",
      "INFO:tensorflow:Using config: {'_model_dir': 'C:\\\\Users\\\\Nico\\\\AppData\\\\Local\\\\Temp\\\\tmpe99cimsv', '_tf_random_seed': None, '_save_summary_steps': 100, '_save_checkpoints_steps': None, '_save_checkpoints_secs': 600, '_session_config': allow_soft_placement: true\n",
      "graph_options {\n",
      "  rewrite_options {\n",
      "    meta_optimizer_iterations: ONE\n",
      "  }\n",
      "}\n",
      ", '_keep_checkpoint_max': 5, '_keep_checkpoint_every_n_hours': 10000, '_log_step_count_steps': 100, '_train_distribute': None, '_device_fn': None, '_protocol': None, '_eval_distribute': None, '_experimental_distribute': None, '_experimental_max_worker_delay_secs': None, '_session_creation_timeout_secs': 7200, '_service': None, '_cluster_spec': <tensorflow.python.training.server_lib.ClusterSpec object at 0x0000026C726EBFC8>, '_task_type': 'worker', '_task_id': 0, '_global_id_in_cluster': 0, '_master': '', '_evaluation_master': '', '_is_chief': True, '_num_ps_replicas': 0, '_num_worker_replicas': 1}\n"
     ]
    }
   ],
   "source": [
    "gbdt_regressor = tf.estimator.BoostedTreesRegressor(\n",
    "    n_batches_per_layer=num_batches_per_layer,\n",
    "    feature_columns=feature_columns, \n",
    "    learning_rate=learning_rate, \n",
    "    n_trees=num_trees,\n",
    "    max_depth=max_depth,\n",
    "    l1_regularization=l1_regul, \n",
    "    l2_regularization=l2_regul\n",
    ")"
   ]
  },
  {
   "cell_type": "code",
   "execution_count": 11,
   "metadata": {},
   "outputs": [
    {
     "name": "stdout",
     "output_type": "stream",
     "text": [
      "INFO:tensorflow:Calling model_fn.\n",
      "INFO:tensorflow:Done calling model_fn.\n",
      "INFO:tensorflow:Create CheckpointSaverHook.\n",
      "WARNING:tensorflow:Issue encountered when serializing resources.\n",
      "Type is unsupported, or the types of the items don't match field type in CollectionDef. Note this is a warning and probably safe to ignore.\n",
      "'_Resource' object has no attribute 'name'\n",
      "INFO:tensorflow:Graph was finalized.\n",
      "INFO:tensorflow:Running local_init_op.\n",
      "INFO:tensorflow:Done running local_init_op.\n",
      "WARNING:tensorflow:Issue encountered when serializing resources.\n",
      "Type is unsupported, or the types of the items don't match field type in CollectionDef. Note this is a warning and probably safe to ignore.\n",
      "'_Resource' object has no attribute 'name'\n",
      "INFO:tensorflow:Saving checkpoints for 0 into C:\\Users\\Nico\\AppData\\Local\\Temp\\tmpe99cimsv\\model.ckpt.\n",
      "WARNING:tensorflow:Issue encountered when serializing resources.\n",
      "Type is unsupported, or the types of the items don't match field type in CollectionDef. Note this is a warning and probably safe to ignore.\n",
      "'_Resource' object has no attribute 'name'\n",
      "INFO:tensorflow:loss = 618.8738, step = 0\n",
      "INFO:tensorflow:loss = 560.51587, step = 0 (0.181 sec)\n",
      "INFO:tensorflow:loss = 555.2643, step = 0 (0.100 sec)\n",
      "INFO:tensorflow:loss = 534.32715, step = 0 (0.101 sec)\n",
      "INFO:tensorflow:loss = 598.9079, step = 0 (0.099 sec)\n",
      "INFO:tensorflow:loss = 627.9147, step = 0 (0.094 sec)\n",
      "INFO:tensorflow:loss = 604.13184, step = 0 (0.096 sec)\n",
      "INFO:tensorflow:loss = 580.4701, step = 0 (0.093 sec)\n",
      "INFO:tensorflow:loss = 573.6992, step = 0 (0.086 sec)\n",
      "INFO:tensorflow:loss = 609.7427, step = 0 (0.088 sec)\n",
      "INFO:tensorflow:loss = 565.69275, step = 0 (0.086 sec)\n",
      "INFO:tensorflow:global_step/sec: 86.6585\n",
      "INFO:tensorflow:loss = 576.35626, step = 100 (0.134 sec)\n",
      "INFO:tensorflow:global_step/sec: 1089.87\n",
      "INFO:tensorflow:loss = 572.3386, step = 200 (0.093 sec)\n",
      "INFO:tensorflow:global_step/sec: 1055.43\n",
      "INFO:tensorflow:loss = 569.2969, step = 300 (0.094 sec)\n",
      "INFO:tensorflow:global_step/sec: 1055.45\n",
      "INFO:tensorflow:loss = 589.6039, step = 400 (0.095 sec)\n",
      "INFO:tensorflow:global_step/sec: 973.466\n",
      "INFO:tensorflow:loss = 536.2556, step = 500 (0.103 sec)\n",
      "INFO:tensorflow:global_step/sec: 992.751\n",
      "INFO:tensorflow:loss = 630.97955, step = 600 (0.101 sec)\n",
      "INFO:tensorflow:global_step/sec: 1012.79\n",
      "INFO:tensorflow:loss = 610.4463, step = 700 (0.099 sec)\n",
      "INFO:tensorflow:global_step/sec: 1012.81\n",
      "INFO:tensorflow:loss = 554.8088, step = 800 (0.100 sec)\n",
      "INFO:tensorflow:global_step/sec: 954.933\n",
      "INFO:tensorflow:loss = 566.2853, step = 900 (0.105 sec)\n",
      "INFO:tensorflow:global_step/sec: 1038.35\n",
      "INFO:tensorflow:loss = 47.8713, step = 1000 (0.095 sec)\n",
      "INFO:tensorflow:global_step/sec: 1089.87\n",
      "INFO:tensorflow:loss = 69.68165, step = 1100 (0.092 sec)\n",
      "INFO:tensorflow:global_step/sec: 1066.67\n",
      "INFO:tensorflow:loss = 64.5573, step = 1200 (0.093 sec)\n",
      "INFO:tensorflow:global_step/sec: 1089.87\n",
      "INFO:tensorflow:loss = 61.170345, step = 1300 (0.093 sec)\n",
      "INFO:tensorflow:global_step/sec: 1055.44\n",
      "INFO:tensorflow:loss = 79.769196, step = 1400 (0.096 sec)\n",
      "INFO:tensorflow:global_step/sec: 1066.67\n",
      "INFO:tensorflow:loss = 55.12749, step = 1500 (0.093 sec)\n",
      "INFO:tensorflow:global_step/sec: 1126.6\n",
      "INFO:tensorflow:loss = 59.151062, step = 1600 (0.089 sec)\n",
      "INFO:tensorflow:global_step/sec: 1089.87\n",
      "INFO:tensorflow:loss = 57.268234, step = 1700 (0.092 sec)\n",
      "INFO:tensorflow:global_step/sec: 1101.83\n",
      "INFO:tensorflow:loss = 75.97638, step = 1800 (0.091 sec)\n",
      "INFO:tensorflow:global_step/sec: 966.438\n",
      "INFO:tensorflow:loss = 61.974464, step = 1900 (0.103 sec)\n",
      "INFO:tensorflow:global_step/sec: 1023.14\n",
      "INFO:tensorflow:Saving checkpoints for 2000 into C:\\Users\\Nico\\AppData\\Local\\Temp\\tmpe99cimsv\\model.ckpt.\n",
      "WARNING:tensorflow:Issue encountered when serializing resources.\n",
      "Type is unsupported, or the types of the items don't match field type in CollectionDef. Note this is a warning and probably safe to ignore.\n",
      "'_Resource' object has no attribute 'name'\n",
      "INFO:tensorflow:Loss for final step: 64.11539.\n"
     ]
    },
    {
     "data": {
      "text/plain": [
       "<tensorflow_estimator.python.estimator.canned.boosted_trees.BoostedTreesRegressor at 0x26c726ebe88>"
      ]
     },
     "execution_count": 11,
     "metadata": {},
     "output_type": "execute_result"
    }
   ],
   "source": [
    "gbdt_regressor.train(train_input_fn, max_steps=max_steps)"
   ]
  },
  {
   "cell_type": "code",
   "execution_count": 12,
   "metadata": {},
   "outputs": [
    {
     "name": "stdout",
     "output_type": "stream",
     "text": [
      "INFO:tensorflow:Calling model_fn.\n",
      "INFO:tensorflow:Done calling model_fn.\n",
      "INFO:tensorflow:Starting evaluation at 2020-09-09T12:19:01Z\n",
      "INFO:tensorflow:Graph was finalized.\n",
      "INFO:tensorflow:Restoring parameters from C:\\Users\\Nico\\AppData\\Local\\Temp\\tmpe99cimsv\\model.ckpt-2000\n",
      "INFO:tensorflow:Running local_init_op.\n",
      "INFO:tensorflow:Done running local_init_op.\n",
      "INFO:tensorflow:Finished evaluation at 2020-09-09-12:19:01\n",
      "INFO:tensorflow:Saving dict for global step 2000: average_loss = 30.205061, global_step = 2000, label/mean = 23.078432, loss = 30.205061, prediction/mean = 22.53553\n",
      "WARNING:tensorflow:Issue encountered when serializing resources.\n",
      "Type is unsupported, or the types of the items don't match field type in CollectionDef. Note this is a warning and probably safe to ignore.\n",
      "'_Resource' object has no attribute 'name'\n",
      "INFO:tensorflow:Saving 'checkpoint_path' summary for global step 2000: C:\\Users\\Nico\\AppData\\Local\\Temp\\tmpe99cimsv\\model.ckpt-2000\n"
     ]
    },
    {
     "data": {
      "text/plain": [
       "{'average_loss': 30.205061,\n",
       " 'label/mean': 23.078432,\n",
       " 'loss': 30.205061,\n",
       " 'prediction/mean': 22.53553,\n",
       " 'global_step': 2000}"
      ]
     },
     "execution_count": 12,
     "metadata": {},
     "output_type": "execute_result"
    }
   ],
   "source": [
    "gbdt_regressor.evaluate(test_input_fn)"
   ]
  },
  {
   "cell_type": "code",
   "execution_count": null,
   "metadata": {},
   "outputs": [],
   "source": []
  }
 ],
 "metadata": {
  "kernelspec": {
   "display_name": "Python 3",
   "language": "python",
   "name": "python3"
  },
  "language_info": {
   "codemirror_mode": {
    "name": "ipython",
    "version": 3
   },
   "file_extension": ".py",
   "mimetype": "text/x-python",
   "name": "python",
   "nbconvert_exporter": "python",
   "pygments_lexer": "ipython3",
   "version": "3.7.7"
  }
 },
 "nbformat": 4,
 "nbformat_minor": 4
}
