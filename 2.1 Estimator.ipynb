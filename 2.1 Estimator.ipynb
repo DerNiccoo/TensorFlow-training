{
 "cells": [
  {
   "cell_type": "code",
   "execution_count": 9,
   "metadata": {},
   "outputs": [],
   "source": [
    "import tensorflow as tf\n",
    "import pandas as pd"
   ]
  },
  {
   "cell_type": "code",
   "execution_count": 10,
   "metadata": {},
   "outputs": [],
   "source": [
    "# Der Datensatz ist der bekannte Iris-Datensatz\n",
    "CSV_COLUMN_NAMES = ['SepalLength', 'SepalWidth', 'PetalLength', 'PetalWidth', 'Species']\n",
    "SPECIES = ['Setosa', 'Versicolor', 'Virginica']"
   ]
  },
  {
   "cell_type": "code",
   "execution_count": 11,
   "metadata": {},
   "outputs": [],
   "source": [
    "train_path = tf.keras.utils.get_file(\"iris_training.csv\", \"https://storage.googleapis.com/download.tensorflow.org/data/iris_training.csv\")\n",
    "test_path = tf.keras.utils.get_file(\"iris_test.csv\", \"https://storage.googleapis.com/download.tensorflow.org/data/iris_test.csv\")\n",
    "\n",
    "train = pd.read_csv(train_path, names=CSV_COLUMN_NAMES, header=0)\n",
    "test = pd.read_csv(test_path, names=CSV_COLUMN_NAMES, header=0)"
   ]
  },
  {
   "cell_type": "code",
   "execution_count": 12,
   "metadata": {},
   "outputs": [
    {
     "data": {
      "text/html": [
       "<div>\n",
       "<style scoped>\n",
       "    .dataframe tbody tr th:only-of-type {\n",
       "        vertical-align: middle;\n",
       "    }\n",
       "\n",
       "    .dataframe tbody tr th {\n",
       "        vertical-align: top;\n",
       "    }\n",
       "\n",
       "    .dataframe thead th {\n",
       "        text-align: right;\n",
       "    }\n",
       "</style>\n",
       "<table border=\"1\" class=\"dataframe\">\n",
       "  <thead>\n",
       "    <tr style=\"text-align: right;\">\n",
       "      <th></th>\n",
       "      <th>SepalLength</th>\n",
       "      <th>SepalWidth</th>\n",
       "      <th>PetalLength</th>\n",
       "      <th>PetalWidth</th>\n",
       "      <th>Species</th>\n",
       "    </tr>\n",
       "  </thead>\n",
       "  <tbody>\n",
       "    <tr>\n",
       "      <th>0</th>\n",
       "      <td>5.9</td>\n",
       "      <td>3.0</td>\n",
       "      <td>4.2</td>\n",
       "      <td>1.5</td>\n",
       "      <td>1</td>\n",
       "    </tr>\n",
       "    <tr>\n",
       "      <th>1</th>\n",
       "      <td>6.9</td>\n",
       "      <td>3.1</td>\n",
       "      <td>5.4</td>\n",
       "      <td>2.1</td>\n",
       "      <td>2</td>\n",
       "    </tr>\n",
       "    <tr>\n",
       "      <th>2</th>\n",
       "      <td>5.1</td>\n",
       "      <td>3.3</td>\n",
       "      <td>1.7</td>\n",
       "      <td>0.5</td>\n",
       "      <td>0</td>\n",
       "    </tr>\n",
       "    <tr>\n",
       "      <th>3</th>\n",
       "      <td>6.0</td>\n",
       "      <td>3.4</td>\n",
       "      <td>4.5</td>\n",
       "      <td>1.6</td>\n",
       "      <td>1</td>\n",
       "    </tr>\n",
       "    <tr>\n",
       "      <th>4</th>\n",
       "      <td>5.5</td>\n",
       "      <td>2.5</td>\n",
       "      <td>4.0</td>\n",
       "      <td>1.3</td>\n",
       "      <td>1</td>\n",
       "    </tr>\n",
       "  </tbody>\n",
       "</table>\n",
       "</div>"
      ],
      "text/plain": [
       "   SepalLength  SepalWidth  PetalLength  PetalWidth  Species\n",
       "0          5.9         3.0          4.2         1.5        1\n",
       "1          6.9         3.1          5.4         2.1        2\n",
       "2          5.1         3.3          1.7         0.5        0\n",
       "3          6.0         3.4          4.5         1.6        1\n",
       "4          5.5         2.5          4.0         1.3        1"
      ]
     },
     "execution_count": 12,
     "metadata": {},
     "output_type": "execute_result"
    }
   ],
   "source": [
    "test.head()"
   ]
  },
  {
   "cell_type": "code",
   "execution_count": 13,
   "metadata": {},
   "outputs": [],
   "source": [
    "train_y = train.pop('Species')\n",
    "test_y = test.pop('Species')"
   ]
  },
  {
   "cell_type": "code",
   "execution_count": 15,
   "metadata": {},
   "outputs": [
    {
     "data": {
      "text/html": [
       "<div>\n",
       "<style scoped>\n",
       "    .dataframe tbody tr th:only-of-type {\n",
       "        vertical-align: middle;\n",
       "    }\n",
       "\n",
       "    .dataframe tbody tr th {\n",
       "        vertical-align: top;\n",
       "    }\n",
       "\n",
       "    .dataframe thead th {\n",
       "        text-align: right;\n",
       "    }\n",
       "</style>\n",
       "<table border=\"1\" class=\"dataframe\">\n",
       "  <thead>\n",
       "    <tr style=\"text-align: right;\">\n",
       "      <th></th>\n",
       "      <th>SepalLength</th>\n",
       "      <th>SepalWidth</th>\n",
       "      <th>PetalLength</th>\n",
       "      <th>PetalWidth</th>\n",
       "    </tr>\n",
       "  </thead>\n",
       "  <tbody>\n",
       "    <tr>\n",
       "      <th>0</th>\n",
       "      <td>5.9</td>\n",
       "      <td>3.0</td>\n",
       "      <td>4.2</td>\n",
       "      <td>1.5</td>\n",
       "    </tr>\n",
       "    <tr>\n",
       "      <th>1</th>\n",
       "      <td>6.9</td>\n",
       "      <td>3.1</td>\n",
       "      <td>5.4</td>\n",
       "      <td>2.1</td>\n",
       "    </tr>\n",
       "    <tr>\n",
       "      <th>2</th>\n",
       "      <td>5.1</td>\n",
       "      <td>3.3</td>\n",
       "      <td>1.7</td>\n",
       "      <td>0.5</td>\n",
       "    </tr>\n",
       "    <tr>\n",
       "      <th>3</th>\n",
       "      <td>6.0</td>\n",
       "      <td>3.4</td>\n",
       "      <td>4.5</td>\n",
       "      <td>1.6</td>\n",
       "    </tr>\n",
       "    <tr>\n",
       "      <th>4</th>\n",
       "      <td>5.5</td>\n",
       "      <td>2.5</td>\n",
       "      <td>4.0</td>\n",
       "      <td>1.3</td>\n",
       "    </tr>\n",
       "  </tbody>\n",
       "</table>\n",
       "</div>"
      ],
      "text/plain": [
       "   SepalLength  SepalWidth  PetalLength  PetalWidth\n",
       "0          5.9         3.0          4.2         1.5\n",
       "1          6.9         3.1          5.4         2.1\n",
       "2          5.1         3.3          1.7         0.5\n",
       "3          6.0         3.4          4.5         1.6\n",
       "4          5.5         2.5          4.0         1.3"
      ]
     },
     "execution_count": 15,
     "metadata": {},
     "output_type": "execute_result"
    }
   ],
   "source": [
    "test.head()"
   ]
  },
  {
   "cell_type": "code",
   "execution_count": 16,
   "metadata": {},
   "outputs": [],
   "source": [
    "# Verwenden vorgefertigter Schätze:\n",
    "#1. Erstellen Sie eine oder mehrere Eingabefunktionen.\n",
    "#2. Definieren Sie die Feature-Spalten des Modells.\n",
    "#3. Instanziieren Sie einen Schätzer, indem Sie die Feature-Spalten und verschiedene Hyperparameter angeben.\n",
    "#4. Rufen Sie eine oder mehrere Methoden für das Estimator-Objekt auf und übergeben Sie die entsprechende Eingabefunktion als Datenquelle. "
   ]
  },
  {
   "cell_type": "code",
   "execution_count": 17,
   "metadata": {},
   "outputs": [],
   "source": [
    "#1 Eingabefunktion gibt die Daten in Form: {'SepalLength': np.array([...]), 'SepalWidth': np.array([...]), ...}\n",
    "\n",
    "def input_fn(features, labels, training=True, batch_size=256):\n",
    "    dataset = tf.data.Dataset.from_tensor_slices((dict(features), labels))\n",
    "    \n",
    "    if training:\n",
    "        dataset = dataset.shuffle(1000).repeat()\n",
    "        \n",
    "    return dataset.batch(batch_size)"
   ]
  },
  {
   "cell_type": "code",
   "execution_count": 18,
   "metadata": {},
   "outputs": [],
   "source": [
    "# Feature-Spalte definiert wie mit den Eingaben umgegangen werden soll. Hier: 4 Zahlen\n",
    "my_feature_columns = []\n",
    "for key in train.keys():\n",
    "    my_feature_columns.append(tf.feature_column.numeric_column(key=key))"
   ]
  },
  {
   "cell_type": "code",
   "execution_count": 19,
   "metadata": {},
   "outputs": [
    {
     "data": {
      "text/plain": [
       "[NumericColumn(key='SepalLength', shape=(1,), default_value=None, dtype=tf.float32, normalizer_fn=None),\n",
       " NumericColumn(key='SepalWidth', shape=(1,), default_value=None, dtype=tf.float32, normalizer_fn=None),\n",
       " NumericColumn(key='PetalLength', shape=(1,), default_value=None, dtype=tf.float32, normalizer_fn=None),\n",
       " NumericColumn(key='PetalWidth', shape=(1,), default_value=None, dtype=tf.float32, normalizer_fn=None)]"
      ]
     },
     "execution_count": 19,
     "metadata": {},
     "output_type": "execute_result"
    }
   ],
   "source": [
    "my_feature_columns"
   ]
  },
  {
   "cell_type": "code",
   "execution_count": 22,
   "metadata": {},
   "outputs": [
    {
     "name": "stdout",
     "output_type": "stream",
     "text": [
      "INFO:tensorflow:Using default config.\n",
      "WARNING:tensorflow:Using temporary folder as model directory: C:\\Users\\Nico\\AppData\\Local\\Temp\\tmpoujv5j4r\n",
      "INFO:tensorflow:Using config: {'_model_dir': 'C:\\\\Users\\\\Nico\\\\AppData\\\\Local\\\\Temp\\\\tmpoujv5j4r', '_tf_random_seed': None, '_save_summary_steps': 100, '_save_checkpoints_steps': None, '_save_checkpoints_secs': 600, '_session_config': allow_soft_placement: true\n",
      "graph_options {\n",
      "  rewrite_options {\n",
      "    meta_optimizer_iterations: ONE\n",
      "  }\n",
      "}\n",
      ", '_keep_checkpoint_max': 5, '_keep_checkpoint_every_n_hours': 10000, '_log_step_count_steps': 100, '_train_distribute': None, '_device_fn': None, '_protocol': None, '_eval_distribute': None, '_experimental_distribute': None, '_experimental_max_worker_delay_secs': None, '_session_creation_timeout_secs': 7200, '_service': None, '_cluster_spec': <tensorflow.python.training.server_lib.ClusterSpec object at 0x00000293A542FC08>, '_task_type': 'worker', '_task_id': 0, '_global_id_in_cluster': 0, '_master': '', '_evaluation_master': '', '_is_chief': True, '_num_ps_replicas': 0, '_num_worker_replicas': 1}\n"
     ]
    }
   ],
   "source": [
    "# Es gibt verschiedene Schätzer mit verschiedenen Stärken und Schwächen. Hier bietet sich DNNClassifier an, für Deep-Modelle die eine Klassifizierung mit mehreren Klassen durchführt\n",
    "\n",
    "classifier = tf.estimator.DNNClassifier(\n",
    "    feature_columns=my_feature_columns,\n",
    "    hidden_units=[30, 10],\n",
    "    n_classes=3)"
   ]
  },
  {
   "cell_type": "code",
   "execution_count": 24,
   "metadata": {
    "collapsed": true,
    "jupyter": {
     "outputs_hidden": true
    }
   },
   "outputs": [
    {
     "name": "stdout",
     "output_type": "stream",
     "text": [
      "WARNING:tensorflow:From E:\\Anaconda\\lib\\site-packages\\tensorflow_core\\python\\ops\\resource_variable_ops.py:1630: calling BaseResourceVariable.__init__ (from tensorflow.python.ops.resource_variable_ops) with constraint is deprecated and will be removed in a future version.\n",
      "Instructions for updating:\n",
      "If using Keras pass *_constraint arguments to layers.\n",
      "WARNING:tensorflow:From E:\\Anaconda\\lib\\site-packages\\tensorflow_core\\python\\training\\training_util.py:236: Variable.initialized_value (from tensorflow.python.ops.variables) is deprecated and will be removed in a future version.\n",
      "Instructions for updating:\n",
      "Use Variable.read_value. Variables in 2.X are initialized automatically both in eager and graph (inside tf.defun) contexts.\n",
      "INFO:tensorflow:Calling model_fn.\n",
      "WARNING:tensorflow:Layer dnn is casting an input tensor from dtype float64 to the layer's dtype of float32, which is new behavior in TensorFlow 2.  The layer has dtype float32 because it's dtype defaults to floatx.\n",
      "\n",
      "If you intended to run this layer in float32, you can safely ignore this warning. If in doubt, this warning is likely only an issue if you are porting a TensorFlow 1.X model to TensorFlow 2.\n",
      "\n",
      "To change all layers to have dtype float64 by default, call `tf.keras.backend.set_floatx('float64')`. To change just this layer, pass dtype='float64' to the layer constructor. If you are the author of this layer, you can disable autocasting by passing autocast=False to the base Layer constructor.\n",
      "\n",
      "WARNING:tensorflow:From E:\\Anaconda\\lib\\site-packages\\tensorflow_core\\python\\keras\\optimizer_v2\\adagrad.py:108: calling Constant.__init__ (from tensorflow.python.ops.init_ops) with dtype is deprecated and will be removed in a future version.\n",
      "Instructions for updating:\n",
      "Call initializer instance with the dtype argument instead of passing it to the constructor\n",
      "INFO:tensorflow:Done calling model_fn.\n",
      "INFO:tensorflow:Create CheckpointSaverHook.\n",
      "INFO:tensorflow:Graph was finalized.\n",
      "INFO:tensorflow:Running local_init_op.\n",
      "INFO:tensorflow:Done running local_init_op.\n",
      "INFO:tensorflow:Saving checkpoints for 0 into C:\\Users\\Nico\\AppData\\Local\\Temp\\tmpoujv5j4r\\model.ckpt.\n",
      "INFO:tensorflow:loss = 1.2773145, step = 0\n",
      "INFO:tensorflow:global_step/sec: 615.228\n",
      "INFO:tensorflow:loss = 1.0587602, step = 100 (0.163 sec)\n",
      "INFO:tensorflow:global_step/sec: 973.482\n",
      "INFO:tensorflow:loss = 1.0062029, step = 200 (0.103 sec)\n",
      "INFO:tensorflow:global_step/sec: 973.181\n",
      "INFO:tensorflow:loss = 0.9906031, step = 300 (0.103 sec)\n",
      "INFO:tensorflow:global_step/sec: 973.748\n",
      "INFO:tensorflow:loss = 0.97301126, step = 400 (0.103 sec)\n",
      "INFO:tensorflow:global_step/sec: 871.895\n",
      "INFO:tensorflow:loss = 0.9290699, step = 500 (0.115 sec)\n",
      "INFO:tensorflow:global_step/sec: 928.41\n",
      "INFO:tensorflow:loss = 0.88201696, step = 600 (0.108 sec)\n",
      "INFO:tensorflow:global_step/sec: 973.17\n",
      "INFO:tensorflow:loss = 0.8548271, step = 700 (0.103 sec)\n",
      "INFO:tensorflow:global_step/sec: 964.396\n",
      "INFO:tensorflow:loss = 0.84419715, step = 800 (0.104 sec)\n",
      "INFO:tensorflow:global_step/sec: 973.244\n",
      "INFO:tensorflow:loss = 0.8250252, step = 900 (0.103 sec)\n",
      "INFO:tensorflow:global_step/sec: 945.888\n",
      "INFO:tensorflow:loss = 0.8030665, step = 1000 (0.106 sec)\n",
      "INFO:tensorflow:global_step/sec: 946.168\n",
      "INFO:tensorflow:loss = 0.7870642, step = 1100 (0.106 sec)\n",
      "INFO:tensorflow:global_step/sec: 973.468\n",
      "INFO:tensorflow:loss = 0.7805301, step = 1200 (0.103 sec)\n",
      "INFO:tensorflow:global_step/sec: 964.113\n",
      "INFO:tensorflow:loss = 0.76467776, step = 1300 (0.104 sec)\n",
      "INFO:tensorflow:global_step/sec: 954.931\n",
      "INFO:tensorflow:loss = 0.75729597, step = 1400 (0.105 sec)\n",
      "INFO:tensorflow:global_step/sec: 954.926\n",
      "INFO:tensorflow:loss = 0.7366101, step = 1500 (0.105 sec)\n",
      "INFO:tensorflow:global_step/sec: 963.884\n",
      "INFO:tensorflow:loss = 0.7268536, step = 1600 (0.104 sec)\n",
      "INFO:tensorflow:global_step/sec: 937.279\n",
      "INFO:tensorflow:loss = 0.722091, step = 1700 (0.107 sec)\n",
      "INFO:tensorflow:global_step/sec: 964.117\n",
      "INFO:tensorflow:loss = 0.71567196, step = 1800 (0.104 sec)\n",
      "INFO:tensorflow:global_step/sec: 945.924\n",
      "INFO:tensorflow:loss = 0.707283, step = 1900 (0.106 sec)\n",
      "INFO:tensorflow:global_step/sec: 964.11\n",
      "INFO:tensorflow:loss = 0.70176196, step = 2000 (0.104 sec)\n",
      "INFO:tensorflow:global_step/sec: 964.104\n",
      "INFO:tensorflow:loss = 0.69295037, step = 2100 (0.104 sec)\n",
      "INFO:tensorflow:global_step/sec: 964.113\n",
      "INFO:tensorflow:loss = 0.6879003, step = 2200 (0.104 sec)\n",
      "INFO:tensorflow:global_step/sec: 964.11\n",
      "INFO:tensorflow:loss = 0.67988825, step = 2300 (0.104 sec)\n",
      "INFO:tensorflow:global_step/sec: 964.113\n",
      "INFO:tensorflow:loss = 0.6725868, step = 2400 (0.104 sec)\n",
      "INFO:tensorflow:global_step/sec: 964.108\n",
      "INFO:tensorflow:loss = 0.6646961, step = 2500 (0.104 sec)\n",
      "INFO:tensorflow:global_step/sec: 973.247\n",
      "INFO:tensorflow:loss = 0.65235627, step = 2600 (0.103 sec)\n",
      "INFO:tensorflow:global_step/sec: 955.139\n",
      "INFO:tensorflow:loss = 0.6616069, step = 2700 (0.104 sec)\n",
      "INFO:tensorflow:global_step/sec: 945.926\n",
      "INFO:tensorflow:loss = 0.65176994, step = 2800 (0.107 sec)\n",
      "INFO:tensorflow:global_step/sec: 928.399\n",
      "INFO:tensorflow:loss = 0.6484786, step = 2900 (0.108 sec)\n",
      "INFO:tensorflow:global_step/sec: 887.325\n",
      "INFO:tensorflow:loss = 0.64696395, step = 3000 (0.113 sec)\n",
      "INFO:tensorflow:global_step/sec: 895.243\n",
      "INFO:tensorflow:loss = 0.64871895, step = 3100 (0.112 sec)\n",
      "INFO:tensorflow:global_step/sec: 903.304\n",
      "INFO:tensorflow:loss = 0.63098633, step = 3200 (0.111 sec)\n",
      "INFO:tensorflow:global_step/sec: 928.408\n",
      "INFO:tensorflow:loss = 0.6312853, step = 3300 (0.108 sec)\n",
      "INFO:tensorflow:global_step/sec: 945.911\n",
      "INFO:tensorflow:loss = 0.6265465, step = 3400 (0.106 sec)\n",
      "INFO:tensorflow:global_step/sec: 945.931\n",
      "INFO:tensorflow:loss = 0.625774, step = 3500 (0.106 sec)\n",
      "INFO:tensorflow:global_step/sec: 928.192\n",
      "INFO:tensorflow:loss = 0.61650646, step = 3600 (0.108 sec)\n",
      "INFO:tensorflow:global_step/sec: 879.726\n",
      "INFO:tensorflow:loss = 0.6169135, step = 3700 (0.114 sec)\n",
      "INFO:tensorflow:global_step/sec: 871.886\n",
      "INFO:tensorflow:loss = 0.60475755, step = 3800 (0.115 sec)\n",
      "INFO:tensorflow:global_step/sec: 945.916\n",
      "INFO:tensorflow:loss = 0.6077625, step = 3900 (0.106 sec)\n",
      "INFO:tensorflow:global_step/sec: 964.119\n",
      "INFO:tensorflow:loss = 0.6166886, step = 4000 (0.104 sec)\n",
      "INFO:tensorflow:global_step/sec: 937.065\n",
      "INFO:tensorflow:loss = 0.60630286, step = 4100 (0.107 sec)\n",
      "INFO:tensorflow:global_step/sec: 954.944\n",
      "INFO:tensorflow:loss = 0.60136056, step = 4200 (0.105 sec)\n",
      "INFO:tensorflow:global_step/sec: 928.395\n",
      "INFO:tensorflow:loss = 0.5881995, step = 4300 (0.108 sec)\n",
      "INFO:tensorflow:global_step/sec: 903.312\n",
      "INFO:tensorflow:loss = 0.5936738, step = 4400 (0.111 sec)\n",
      "INFO:tensorflow:global_step/sec: 903.11\n",
      "INFO:tensorflow:loss = 0.5882305, step = 4500 (0.111 sec)\n",
      "INFO:tensorflow:global_step/sec: 928.41\n",
      "INFO:tensorflow:loss = 0.568673, step = 4600 (0.108 sec)\n",
      "INFO:tensorflow:global_step/sec: 964.11\n",
      "INFO:tensorflow:loss = 0.5944185, step = 4700 (0.104 sec)\n",
      "INFO:tensorflow:global_step/sec: 920.086\n",
      "INFO:tensorflow:loss = 0.5814458, step = 4800 (0.109 sec)\n",
      "INFO:tensorflow:global_step/sec: 964.113\n",
      "INFO:tensorflow:loss = 0.5701783, step = 4900 (0.104 sec)\n",
      "INFO:tensorflow:Saving checkpoints for 5000 into C:\\Users\\Nico\\AppData\\Local\\Temp\\tmpoujv5j4r\\model.ckpt.\n",
      "INFO:tensorflow:Loss for final step: 0.5666845.\n"
     ]
    },
    {
     "data": {
      "text/plain": [
       "<tensorflow_estimator.python.estimator.canned.dnn.DNNClassifierV2 at 0x293a542f988>"
      ]
     },
     "execution_count": 24,
     "metadata": {},
     "output_type": "execute_result"
    }
   ],
   "source": [
    "# Der estimator kann verwendet werden zum: Trainieren, Bewerten und Verwenden. Zunächst sollte er Trainiert werden...\n",
    "\n",
    "classifier.train(\n",
    "    input_fn=lambda: input_fn(train, train_y, training=True), steps= 5000)"
   ]
  },
  {
   "cell_type": "code",
   "execution_count": 25,
   "metadata": {},
   "outputs": [
    {
     "name": "stdout",
     "output_type": "stream",
     "text": [
      "INFO:tensorflow:Calling model_fn.\n",
      "WARNING:tensorflow:Layer dnn is casting an input tensor from dtype float64 to the layer's dtype of float32, which is new behavior in TensorFlow 2.  The layer has dtype float32 because it's dtype defaults to floatx.\n",
      "\n",
      "If you intended to run this layer in float32, you can safely ignore this warning. If in doubt, this warning is likely only an issue if you are porting a TensorFlow 1.X model to TensorFlow 2.\n",
      "\n",
      "To change all layers to have dtype float64 by default, call `tf.keras.backend.set_floatx('float64')`. To change just this layer, pass dtype='float64' to the layer constructor. If you are the author of this layer, you can disable autocasting by passing autocast=False to the base Layer constructor.\n",
      "\n",
      "INFO:tensorflow:Done calling model_fn.\n",
      "INFO:tensorflow:Starting evaluation at 2020-09-09T12:42:46Z\n",
      "INFO:tensorflow:Graph was finalized.\n",
      "INFO:tensorflow:Restoring parameters from C:\\Users\\Nico\\AppData\\Local\\Temp\\tmpoujv5j4r\\model.ckpt-5000\n",
      "INFO:tensorflow:Running local_init_op.\n",
      "INFO:tensorflow:Done running local_init_op.\n",
      "INFO:tensorflow:Finished evaluation at 2020-09-09-12:42:46\n",
      "INFO:tensorflow:Saving dict for global step 5000: accuracy = 0.53333336, average_loss = 0.6612749, global_step = 5000, loss = 0.6612749\n",
      "INFO:tensorflow:Saving 'checkpoint_path' summary for global step 5000: C:\\Users\\Nico\\AppData\\Local\\Temp\\tmpoujv5j4r\\model.ckpt-5000\n",
      "\n",
      "Test set accuracy: 0.533\n",
      "\n"
     ]
    }
   ],
   "source": [
    "# Bewerten des Modells...\n",
    "eval_result = classifier.evaluate(\n",
    "    input_fn=lambda: input_fn(test, test_y, training=False))\n",
    "\n",
    "#average_loss (mittlerer Verlust pro Stichprobe)\n",
    "#loss (mittlerer Verlust pro Mini-Batch)\n",
    "#global_step (die Anzahl der durchgeführten Trainingsiterationen)\n",
    "\n",
    "print('\\nTest set accuracy: {accuracy:0.3f}\\n'.format(**eval_result))"
   ]
  },
  {
   "cell_type": "code",
   "execution_count": 26,
   "metadata": {},
   "outputs": [],
   "source": [
    "# Verwenden des Modells mit eigenen, unbeschrifteten Daten\n",
    "expected = ['Setosa', 'Versicolor', 'Virginica']\n",
    "predict_x = {\n",
    "    'SepalLength': [5.1, 5.9, 6.9],\n",
    "    'SepalWidth': [3.3, 3.0, 3.1],\n",
    "    'PetalLength': [1.7, 4.2, 5.4],\n",
    "    'PetalWidth': [0.5, 1.5, 2.1],\n",
    "}\n",
    "\n",
    "def input_fn(features, batch_size=256):\n",
    "    return tf.data.Dataset.from_tensor_slices(dict(features)).batch(batch_size)\n",
    "\n",
    "predictions = classifier.predict(input_fn=lambda: input_fn(predict_x))"
   ]
  },
  {
   "cell_type": "code",
   "execution_count": 27,
   "metadata": {},
   "outputs": [
    {
     "name": "stdout",
     "output_type": "stream",
     "text": [
      "INFO:tensorflow:Calling model_fn.\n",
      "INFO:tensorflow:Done calling model_fn.\n",
      "INFO:tensorflow:Graph was finalized.\n",
      "INFO:tensorflow:Restoring parameters from C:\\Users\\Nico\\AppData\\Local\\Temp\\tmpoujv5j4r\\model.ckpt-5000\n",
      "INFO:tensorflow:Running local_init_op.\n",
      "INFO:tensorflow:Done running local_init_op.\n",
      "Prediction is \"Setosa\" (68.2%), expected \"Setosa\"\n",
      "Prediction is \"Virginica\" (54.4%), expected \"Versicolor\"\n",
      "Prediction is \"Virginica\" (57.4%), expected \"Virginica\"\n"
     ]
    }
   ],
   "source": [
    "for pred_dict, expec in zip(predictions, expected):\n",
    "    class_id = pred_dict['class_ids'][0]\n",
    "    probability = pred_dict['probabilities'][class_id]\n",
    "\n",
    "    print('Prediction is \"{}\" ({:.1f}%), expected \"{}\"'.format(\n",
    "        SPECIES[class_id], 100 * probability, expec))"
   ]
  },
  {
   "cell_type": "code",
   "execution_count": null,
   "metadata": {},
   "outputs": [],
   "source": []
  }
 ],
 "metadata": {
  "kernelspec": {
   "display_name": "Python 3",
   "language": "python",
   "name": "python3"
  },
  "language_info": {
   "codemirror_mode": {
    "name": "ipython",
    "version": 3
   },
   "file_extension": ".py",
   "mimetype": "text/x-python",
   "name": "python",
   "nbconvert_exporter": "python",
   "pygments_lexer": "ipython3",
   "version": "3.7.7"
  }
 },
 "nbformat": 4,
 "nbformat_minor": 4
}
